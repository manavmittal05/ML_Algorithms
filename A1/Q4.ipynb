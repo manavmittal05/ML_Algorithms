{
 "cells": [
  {
   "cell_type": "code",
   "execution_count": 79,
   "metadata": {
    "collapsed": true,
    "ExecuteTime": {
     "start_time": "2023-04-01T20:45:14.105479Z",
     "end_time": "2023-04-01T20:45:14.217105Z"
    }
   },
   "outputs": [],
   "source": [
    "import numpy as np\n",
    "import csv"
   ]
  },
  {
   "cell_type": "code",
   "execution_count": 80,
   "outputs": [
    {
     "name": "stdout",
     "output_type": "stream",
     "text": [
      "[[5.1, 3.5, 1.4, 0.2], [4.9, 3.0, 1.4, 0.2], [4.7, 3.2, 1.3, 0.2], [4.6, 3.1, 1.5, 0.2], [5.0, 3.6, 1.4, 0.2], [5.4, 3.9, 1.7, 0.4], [4.6, 3.4, 1.4, 0.3], [5.0, 3.4, 1.5, 0.2], [4.4, 2.9, 1.4, 0.2], [4.9, 3.1, 1.5, 0.1], [5.4, 3.7, 1.5, 0.2], [4.8, 3.4, 1.6, 0.2], [4.8, 3.0, 1.4, 0.1], [4.3, 3.0, 1.1, 0.1], [5.8, 4.0, 1.2, 0.2], [5.7, 4.4, 1.5, 0.4], [5.4, 3.9, 1.3, 0.4], [5.1, 3.5, 1.4, 0.3], [5.7, 3.8, 1.7, 0.3], [5.1, 3.8, 1.5, 0.3], [5.4, 3.4, 1.7, 0.2], [5.1, 3.7, 1.5, 0.4], [4.6, 3.6, 1.0, 0.2], [5.1, 3.3, 1.7, 0.5], [4.8, 3.4, 1.9, 0.2], [5.0, 3.0, 1.6, 0.2], [5.0, 3.4, 1.6, 0.4], [5.2, 3.5, 1.5, 0.2], [5.2, 3.4, 1.4, 0.2], [4.7, 3.2, 1.6, 0.2], [4.8, 3.1, 1.6, 0.2], [5.4, 3.4, 1.5, 0.4], [5.2, 4.1, 1.5, 0.1], [5.5, 4.2, 1.4, 0.2], [4.9, 3.1, 1.5, 0.1], [5.0, 3.2, 1.2, 0.2], [5.5, 3.5, 1.3, 0.2], [4.9, 3.1, 1.5, 0.1], [4.4, 3.0, 1.3, 0.2], [5.1, 3.4, 1.5, 0.2], [5.0, 3.5, 1.3, 0.3], [4.5, 2.3, 1.3, 0.3], [4.4, 3.2, 1.3, 0.2], [5.0, 3.5, 1.6, 0.6], [5.1, 3.8, 1.9, 0.4], [4.8, 3.0, 1.4, 0.3], [5.1, 3.8, 1.6, 0.2], [4.6, 3.2, 1.4, 0.2], [5.3, 3.7, 1.5, 0.2], [5.0, 3.3, 1.4, 0.2], [7.0, 3.2, 4.7, 1.4], [6.4, 3.2, 4.5, 1.5], [6.9, 3.1, 4.9, 1.5], [5.5, 2.3, 4.0, 1.3], [6.5, 2.8, 4.6, 1.5], [5.7, 2.8, 4.5, 1.3], [6.3, 3.3, 4.7, 1.6], [4.9, 2.4, 3.3, 1.0], [6.6, 2.9, 4.6, 1.3], [5.2, 2.7, 3.9, 1.4], [5.0, 2.0, 3.5, 1.0], [5.9, 3.0, 4.2, 1.5], [6.0, 2.2, 4.0, 1.0], [6.1, 2.9, 4.7, 1.4], [5.6, 2.9, 3.6, 1.3], [6.7, 3.1, 4.4, 1.4], [5.6, 3.0, 4.5, 1.5], [5.8, 2.7, 4.1, 1.0], [6.2, 2.2, 4.5, 1.5], [5.6, 2.5, 3.9, 1.1], [5.9, 3.2, 4.8, 1.8], [6.1, 2.8, 4.0, 1.3], [6.3, 2.5, 4.9, 1.5], [6.1, 2.8, 4.7, 1.2], [6.4, 2.9, 4.3, 1.3], [6.6, 3.0, 4.4, 1.4], [6.8, 2.8, 4.8, 1.4], [6.7, 3.0, 5.0, 1.7], [6.0, 2.9, 4.5, 1.5], [5.7, 2.6, 3.5, 1.0], [5.5, 2.4, 3.8, 1.1], [5.5, 2.4, 3.7, 1.0], [5.8, 2.7, 3.9, 1.2], [6.0, 2.7, 5.1, 1.6], [5.4, 3.0, 4.5, 1.5], [6.0, 3.4, 4.5, 1.6], [6.7, 3.1, 4.7, 1.5], [6.3, 2.3, 4.4, 1.3], [5.6, 3.0, 4.1, 1.3], [5.5, 2.5, 4.0, 1.3], [5.5, 2.6, 4.4, 1.2], [6.1, 3.0, 4.6, 1.4], [5.8, 2.6, 4.0, 1.2], [5.0, 2.3, 3.3, 1.0], [5.6, 2.7, 4.2, 1.3], [5.7, 3.0, 4.2, 1.2], [5.7, 2.9, 4.2, 1.3], [6.2, 2.9, 4.3, 1.3], [5.1, 2.5, 3.0, 1.1], [5.7, 2.8, 4.1, 1.3], [6.3, 3.3, 6.0, 2.5], [5.8, 2.7, 5.1, 1.9], [7.1, 3.0, 5.9, 2.1], [6.3, 2.9, 5.6, 1.8], [6.5, 3.0, 5.8, 2.2], [7.6, 3.0, 6.6, 2.1], [4.9, 2.5, 4.5, 1.7], [7.3, 2.9, 6.3, 1.8], [6.7, 2.5, 5.8, 1.8], [7.2, 3.6, 6.1, 2.5], [6.5, 3.2, 5.1, 2.0], [6.4, 2.7, 5.3, 1.9], [6.8, 3.0, 5.5, 2.1], [5.7, 2.5, 5.0, 2.0], [5.8, 2.8, 5.1, 2.4], [6.4, 3.2, 5.3, 2.3], [6.5, 3.0, 5.5, 1.8], [7.7, 3.8, 6.7, 2.2], [7.7, 2.6, 6.9, 2.3], [6.0, 2.2, 5.0, 1.5], [6.9, 3.2, 5.7, 2.3], [5.6, 2.8, 4.9, 2.0], [7.7, 2.8, 6.7, 2.0], [6.3, 2.7, 4.9, 1.8], [6.7, 3.3, 5.7, 2.1], [7.2, 3.2, 6.0, 1.8], [6.2, 2.8, 4.8, 1.8], [6.1, 3.0, 4.9, 1.8], [6.4, 2.8, 5.6, 2.1], [7.2, 3.0, 5.8, 1.6], [7.4, 2.8, 6.1, 1.9], [7.9, 3.8, 6.4, 2.0], [6.4, 2.8, 5.6, 2.2], [6.3, 2.8, 5.1, 1.5], [6.1, 2.6, 5.6, 1.4], [7.7, 3.0, 6.1, 2.3], [6.3, 3.4, 5.6, 2.4], [6.4, 3.1, 5.5, 1.8], [6.0, 3.0, 4.8, 1.8], [6.9, 3.1, 5.4, 2.1], [6.7, 3.1, 5.6, 2.4], [6.9, 3.1, 5.1, 2.3], [5.8, 2.7, 5.1, 1.9], [6.8, 3.2, 5.9, 2.3], [6.7, 3.3, 5.7, 2.5], [6.7, 3.0, 5.2, 2.3], [6.3, 2.5, 5.0, 1.9], [6.5, 3.0, 5.2, 2.0], [6.2, 3.4, 5.4, 2.3], [5.9, 3.0, 5.1, 1.8]]\n",
      "[['Iris-setosa'], ['Iris-setosa'], ['Iris-setosa'], ['Iris-setosa'], ['Iris-setosa'], ['Iris-setosa'], ['Iris-setosa'], ['Iris-setosa'], ['Iris-setosa'], ['Iris-setosa'], ['Iris-setosa'], ['Iris-setosa'], ['Iris-setosa'], ['Iris-setosa'], ['Iris-setosa'], ['Iris-setosa'], ['Iris-setosa'], ['Iris-setosa'], ['Iris-setosa'], ['Iris-setosa'], ['Iris-setosa'], ['Iris-setosa'], ['Iris-setosa'], ['Iris-setosa'], ['Iris-setosa'], ['Iris-setosa'], ['Iris-setosa'], ['Iris-setosa'], ['Iris-setosa'], ['Iris-setosa'], ['Iris-setosa'], ['Iris-setosa'], ['Iris-setosa'], ['Iris-setosa'], ['Iris-setosa'], ['Iris-setosa'], ['Iris-setosa'], ['Iris-setosa'], ['Iris-setosa'], ['Iris-setosa'], ['Iris-setosa'], ['Iris-setosa'], ['Iris-setosa'], ['Iris-setosa'], ['Iris-setosa'], ['Iris-setosa'], ['Iris-setosa'], ['Iris-setosa'], ['Iris-setosa'], ['Iris-setosa'], ['Iris-versicolor'], ['Iris-versicolor'], ['Iris-versicolor'], ['Iris-versicolor'], ['Iris-versicolor'], ['Iris-versicolor'], ['Iris-versicolor'], ['Iris-versicolor'], ['Iris-versicolor'], ['Iris-versicolor'], ['Iris-versicolor'], ['Iris-versicolor'], ['Iris-versicolor'], ['Iris-versicolor'], ['Iris-versicolor'], ['Iris-versicolor'], ['Iris-versicolor'], ['Iris-versicolor'], ['Iris-versicolor'], ['Iris-versicolor'], ['Iris-versicolor'], ['Iris-versicolor'], ['Iris-versicolor'], ['Iris-versicolor'], ['Iris-versicolor'], ['Iris-versicolor'], ['Iris-versicolor'], ['Iris-versicolor'], ['Iris-versicolor'], ['Iris-versicolor'], ['Iris-versicolor'], ['Iris-versicolor'], ['Iris-versicolor'], ['Iris-versicolor'], ['Iris-versicolor'], ['Iris-versicolor'], ['Iris-versicolor'], ['Iris-versicolor'], ['Iris-versicolor'], ['Iris-versicolor'], ['Iris-versicolor'], ['Iris-versicolor'], ['Iris-versicolor'], ['Iris-versicolor'], ['Iris-versicolor'], ['Iris-versicolor'], ['Iris-versicolor'], ['Iris-versicolor'], ['Iris-versicolor'], ['Iris-versicolor'], ['Iris-virginica'], ['Iris-virginica'], ['Iris-virginica'], ['Iris-virginica'], ['Iris-virginica'], ['Iris-virginica'], ['Iris-virginica'], ['Iris-virginica'], ['Iris-virginica'], ['Iris-virginica'], ['Iris-virginica'], ['Iris-virginica'], ['Iris-virginica'], ['Iris-virginica'], ['Iris-virginica'], ['Iris-virginica'], ['Iris-virginica'], ['Iris-virginica'], ['Iris-virginica'], ['Iris-virginica'], ['Iris-virginica'], ['Iris-virginica'], ['Iris-virginica'], ['Iris-virginica'], ['Iris-virginica'], ['Iris-virginica'], ['Iris-virginica'], ['Iris-virginica'], ['Iris-virginica'], ['Iris-virginica'], ['Iris-virginica'], ['Iris-virginica'], ['Iris-virginica'], ['Iris-virginica'], ['Iris-virginica'], ['Iris-virginica'], ['Iris-virginica'], ['Iris-virginica'], ['Iris-virginica'], ['Iris-virginica'], ['Iris-virginica'], ['Iris-virginica'], ['Iris-virginica'], ['Iris-virginica'], ['Iris-virginica'], ['Iris-virginica'], ['Iris-virginica'], ['Iris-virginica'], ['Iris-virginica'], ['Iris-virginica']]\n"
     ]
    }
   ],
   "source": [
    "X = []\n",
    "Y = []\n",
    "\n",
    "# data = []\n",
    "\n",
    "with open('Iris.csv', 'r') as file:\n",
    "    reader = csv.reader(file)\n",
    "    for row in reader:\n",
    "        X.append([float(val) for val in row[1:-1]])\n",
    "        Y.append([row[-1]])\n",
    "\n",
    "print(X)\n",
    "print(Y)"
   ],
   "metadata": {
    "collapsed": false,
    "ExecuteTime": {
     "start_time": "2023-04-01T20:45:14.135559Z",
     "end_time": "2023-04-01T20:45:14.217393Z"
    }
   }
  },
  {
   "cell_type": "code",
   "execution_count": 81,
   "outputs": [],
   "source": [
    "X = np.array(X)\n",
    "Y = np.array(Y)"
   ],
   "metadata": {
    "collapsed": false,
    "ExecuteTime": {
     "start_time": "2023-04-01T20:45:14.135648Z",
     "end_time": "2023-04-01T20:45:14.217456Z"
    }
   }
  },
  {
   "cell_type": "code",
   "execution_count": 82,
   "outputs": [],
   "source": [
    "from sklearn.model_selection import train_test_split\n",
    "\n",
    "x_train, x_test, y_train, y_test = train_test_split(X, Y, test_size=0.2, random_state=3)"
   ],
   "metadata": {
    "collapsed": false,
    "ExecuteTime": {
     "start_time": "2023-04-01T20:45:14.135684Z",
     "end_time": "2023-04-01T20:45:14.217503Z"
    }
   }
  },
  {
   "cell_type": "code",
   "execution_count": 83,
   "outputs": [
    {
     "data": {
      "text/plain": "array([[5.8, 4. , 1.2, 0.2],\n       [4.8, 3.4, 1.9, 0.2],\n       [6.9, 3.1, 5.4, 2.1],\n       [6.6, 2.9, 4.6, 1.3],\n       [4.4, 2.9, 1.4, 0.2],\n       [5.2, 3.5, 1.5, 0.2],\n       [6.7, 3. , 5. , 1.7],\n       [4.5, 2.3, 1.3, 0.3],\n       [6.4, 2.7, 5.3, 1.9],\n       [6.2, 2.2, 4.5, 1.5],\n       [6.4, 2.8, 5.6, 2.1],\n       [5.8, 2.7, 3.9, 1.2],\n       [4.6, 3.6, 1. , 0.2],\n       [5.1, 3.5, 1.4, 0.3],\n       [6.1, 3. , 4.9, 1.8],\n       [6.4, 3.2, 4.5, 1.5],\n       [5.1, 3.3, 1.7, 0.5],\n       [6. , 2.7, 5.1, 1.6],\n       [5.8, 2.7, 5.1, 1.9],\n       [5.4, 3. , 4.5, 1.5],\n       [4.8, 3. , 1.4, 0.3],\n       [5. , 3.2, 1.2, 0.2],\n       [5.8, 2.7, 5.1, 1.9],\n       [7. , 3.2, 4.7, 1.4],\n       [6.1, 2.8, 4.7, 1.2],\n       [4.9, 3.1, 1.5, 0.1],\n       [6.3, 3.4, 5.6, 2.4],\n       [5.1, 3.8, 1.5, 0.3],\n       [6.5, 3. , 5.5, 1.8],\n       [5.7, 2.9, 4.2, 1.3],\n       [5. , 3.6, 1.4, 0.2],\n       [4.8, 3. , 1.4, 0.1],\n       [6.8, 3.2, 5.9, 2.3],\n       [5.9, 3.2, 4.8, 1.8],\n       [5.4, 3.7, 1.5, 0.2],\n       [4.8, 3.4, 1.6, 0.2],\n       [5.1, 2.5, 3. , 1.1],\n       [6.4, 3.1, 5.5, 1.8],\n       [6.3, 3.3, 6. , 2.5],\n       [4.9, 3.1, 1.5, 0.1],\n       [6.7, 3.3, 5.7, 2.1],\n       [5.7, 3. , 4.2, 1.2],\n       [4.7, 3.2, 1.6, 0.2],\n       [5.1, 3.4, 1.5, 0.2],\n       [7.4, 2.8, 6.1, 1.9],\n       [7.7, 3.8, 6.7, 2.2],\n       [5.8, 2.8, 5.1, 2.4],\n       [5.7, 2.8, 4.1, 1.3],\n       [5.2, 2.7, 3.9, 1.4],\n       [6.3, 2.3, 4.4, 1.3],\n       [5.1, 3.8, 1.9, 0.4],\n       [5.5, 3.5, 1.3, 0.2],\n       [6.4, 3.2, 5.3, 2.3],\n       [6.7, 3.3, 5.7, 2.5],\n       [6.9, 3.1, 4.9, 1.5],\n       [7.1, 3. , 5.9, 2.1],\n       [5.9, 3. , 4.2, 1.5],\n       [7.7, 2.8, 6.7, 2. ],\n       [4.8, 3.1, 1.6, 0.2],\n       [6.3, 2.8, 5.1, 1.5],\n       [4.3, 3. , 1.1, 0.1],\n       [5.7, 2.8, 4.5, 1.3],\n       [6.6, 3. , 4.4, 1.4],\n       [6.4, 2.8, 5.6, 2.2],\n       [6.2, 3.4, 5.4, 2.3],\n       [5.2, 4.1, 1.5, 0.1],\n       [5.5, 2.4, 3.8, 1.1],\n       [5.4, 3.9, 1.3, 0.4],\n       [6.1, 3. , 4.6, 1.4],\n       [6.4, 2.9, 4.3, 1.3],\n       [6. , 3.4, 4.5, 1.6],\n       [4.9, 3. , 1.4, 0.2],\n       [7.2, 3.2, 6. , 1.8],\n       [5.1, 3.8, 1.6, 0.2],\n       [6.7, 2.5, 5.8, 1.8],\n       [6.1, 2.8, 4. , 1.3],\n       [6.7, 3. , 5.2, 2.3],\n       [6.3, 3.3, 4.7, 1.6],\n       [5.6, 2.8, 4.9, 2. ],\n       [6.1, 2.9, 4.7, 1.4],\n       [5.7, 3.8, 1.7, 0.3],\n       [7.6, 3. , 6.6, 2.1],\n       [5.6, 2.9, 3.6, 1.3],\n       [6.5, 3. , 5.2, 2. ],\n       [6.5, 2.8, 4.6, 1.5],\n       [5.2, 3.4, 1.4, 0.2],\n       [6. , 2.9, 4.5, 1.5],\n       [6.3, 2.5, 5. , 1.9],\n       [5. , 3.3, 1.4, 0.2],\n       [5.6, 2.7, 4.2, 1.3],\n       [5.4, 3.4, 1.7, 0.2],\n       [4.9, 3.1, 1.5, 0.1],\n       [5.3, 3.7, 1.5, 0.2],\n       [5.7, 2.6, 3.5, 1. ],\n       [6.3, 2.7, 4.9, 1.8],\n       [5.5, 4.2, 1.4, 0.2],\n       [5. , 3.5, 1.6, 0.6],\n       [6.9, 3.2, 5.7, 2.3],\n       [5. , 3.4, 1.5, 0.2],\n       [6. , 2.2, 4. , 1. ],\n       [5.9, 3. , 5.1, 1.8],\n       [6.2, 2.9, 4.3, 1.3],\n       [6.5, 3.2, 5.1, 2. ],\n       [6.5, 3. , 5.8, 2.2],\n       [5.6, 2.5, 3.9, 1.1],\n       [5.5, 2.6, 4.4, 1.2],\n       [7.2, 3. , 5.8, 1.6],\n       [5. , 2. , 3.5, 1. ],\n       [4.7, 3.2, 1.3, 0.2],\n       [5.6, 3. , 4.5, 1.5],\n       [5.5, 2.4, 3.7, 1. ],\n       [5. , 3.4, 1.6, 0.4],\n       [5. , 2.3, 3.3, 1. ],\n       [6. , 2.2, 5. , 1.5],\n       [6. , 3. , 4.8, 1.8],\n       [7.3, 2.9, 6.3, 1.8],\n       [5.1, 3.7, 1.5, 0.4],\n       [5.1, 3.5, 1.4, 0.2],\n       [7.9, 3.8, 6.4, 2. ],\n       [4.9, 2.5, 4.5, 1.7]])"
     },
     "execution_count": 83,
     "metadata": {},
     "output_type": "execute_result"
    }
   ],
   "source": [
    "x_train"
   ],
   "metadata": {
    "collapsed": false,
    "ExecuteTime": {
     "start_time": "2023-04-01T20:45:14.135801Z",
     "end_time": "2023-04-01T20:45:14.217731Z"
    }
   }
  },
  {
   "cell_type": "code",
   "execution_count": 84,
   "outputs": [
    {
     "data": {
      "text/plain": "array([['Iris-setosa'],\n       ['Iris-setosa'],\n       ['Iris-virginica'],\n       ['Iris-versicolor'],\n       ['Iris-setosa'],\n       ['Iris-setosa'],\n       ['Iris-versicolor'],\n       ['Iris-setosa'],\n       ['Iris-virginica'],\n       ['Iris-versicolor'],\n       ['Iris-virginica'],\n       ['Iris-versicolor'],\n       ['Iris-setosa'],\n       ['Iris-setosa'],\n       ['Iris-virginica'],\n       ['Iris-versicolor'],\n       ['Iris-setosa'],\n       ['Iris-versicolor'],\n       ['Iris-virginica'],\n       ['Iris-versicolor'],\n       ['Iris-setosa'],\n       ['Iris-setosa'],\n       ['Iris-virginica'],\n       ['Iris-versicolor'],\n       ['Iris-versicolor'],\n       ['Iris-setosa'],\n       ['Iris-virginica'],\n       ['Iris-setosa'],\n       ['Iris-virginica'],\n       ['Iris-versicolor'],\n       ['Iris-setosa'],\n       ['Iris-setosa'],\n       ['Iris-virginica'],\n       ['Iris-versicolor'],\n       ['Iris-setosa'],\n       ['Iris-setosa'],\n       ['Iris-versicolor'],\n       ['Iris-virginica'],\n       ['Iris-virginica'],\n       ['Iris-setosa'],\n       ['Iris-virginica'],\n       ['Iris-versicolor'],\n       ['Iris-setosa'],\n       ['Iris-setosa'],\n       ['Iris-virginica'],\n       ['Iris-virginica'],\n       ['Iris-virginica'],\n       ['Iris-versicolor'],\n       ['Iris-versicolor'],\n       ['Iris-versicolor'],\n       ['Iris-setosa'],\n       ['Iris-setosa'],\n       ['Iris-virginica'],\n       ['Iris-virginica'],\n       ['Iris-versicolor'],\n       ['Iris-virginica'],\n       ['Iris-versicolor'],\n       ['Iris-virginica'],\n       ['Iris-setosa'],\n       ['Iris-virginica'],\n       ['Iris-setosa'],\n       ['Iris-versicolor'],\n       ['Iris-versicolor'],\n       ['Iris-virginica'],\n       ['Iris-virginica'],\n       ['Iris-setosa'],\n       ['Iris-versicolor'],\n       ['Iris-setosa'],\n       ['Iris-versicolor'],\n       ['Iris-versicolor'],\n       ['Iris-versicolor'],\n       ['Iris-setosa'],\n       ['Iris-virginica'],\n       ['Iris-setosa'],\n       ['Iris-virginica'],\n       ['Iris-versicolor'],\n       ['Iris-virginica'],\n       ['Iris-versicolor'],\n       ['Iris-virginica'],\n       ['Iris-versicolor'],\n       ['Iris-setosa'],\n       ['Iris-virginica'],\n       ['Iris-versicolor'],\n       ['Iris-virginica'],\n       ['Iris-versicolor'],\n       ['Iris-setosa'],\n       ['Iris-versicolor'],\n       ['Iris-virginica'],\n       ['Iris-setosa'],\n       ['Iris-versicolor'],\n       ['Iris-setosa'],\n       ['Iris-setosa'],\n       ['Iris-setosa'],\n       ['Iris-versicolor'],\n       ['Iris-virginica'],\n       ['Iris-setosa'],\n       ['Iris-setosa'],\n       ['Iris-virginica'],\n       ['Iris-setosa'],\n       ['Iris-versicolor'],\n       ['Iris-virginica'],\n       ['Iris-versicolor'],\n       ['Iris-virginica'],\n       ['Iris-virginica'],\n       ['Iris-versicolor'],\n       ['Iris-versicolor'],\n       ['Iris-virginica'],\n       ['Iris-versicolor'],\n       ['Iris-setosa'],\n       ['Iris-versicolor'],\n       ['Iris-versicolor'],\n       ['Iris-setosa'],\n       ['Iris-versicolor'],\n       ['Iris-virginica'],\n       ['Iris-virginica'],\n       ['Iris-virginica'],\n       ['Iris-setosa'],\n       ['Iris-setosa'],\n       ['Iris-virginica'],\n       ['Iris-virginica']], dtype='<U15')"
     },
     "execution_count": 84,
     "metadata": {},
     "output_type": "execute_result"
    }
   ],
   "source": [
    "y_train"
   ],
   "metadata": {
    "collapsed": false,
    "ExecuteTime": {
     "start_time": "2023-04-01T20:45:14.135862Z",
     "end_time": "2023-04-01T20:45:14.217912Z"
    }
   }
  },
  {
   "cell_type": "code",
   "execution_count": 85,
   "outputs": [
    {
     "data": {
      "text/plain": "{1: [0,\n  1,\n  4,\n  5,\n  7,\n  12,\n  13,\n  16,\n  20,\n  21,\n  25,\n  27,\n  30,\n  31,\n  34,\n  35,\n  39,\n  42,\n  43,\n  50,\n  51,\n  58,\n  60,\n  65,\n  67,\n  71,\n  73,\n  80,\n  85,\n  88,\n  90,\n  91,\n  92,\n  95,\n  96,\n  98,\n  108,\n  111,\n  116,\n  117],\n 2: [3,\n  6,\n  9,\n  11,\n  15,\n  17,\n  19,\n  23,\n  24,\n  29,\n  33,\n  36,\n  41,\n  47,\n  48,\n  49,\n  54,\n  56,\n  61,\n  62,\n  66,\n  68,\n  69,\n  70,\n  75,\n  77,\n  79,\n  82,\n  84,\n  86,\n  89,\n  93,\n  99,\n  101,\n  104,\n  105,\n  107,\n  109,\n  110,\n  112],\n 3: [2,\n  8,\n  10,\n  14,\n  18,\n  22,\n  26,\n  28,\n  32,\n  37,\n  38,\n  40,\n  44,\n  45,\n  46,\n  52,\n  53,\n  55,\n  57,\n  59,\n  63,\n  64,\n  72,\n  74,\n  76,\n  78,\n  81,\n  83,\n  87,\n  94,\n  97,\n  100,\n  102,\n  103,\n  106,\n  113,\n  114,\n  115,\n  118,\n  119]}"
     },
     "execution_count": 85,
     "metadata": {},
     "output_type": "execute_result"
    }
   ],
   "source": [
    "clusters = {1:[], 2:[], 3:[]}\n",
    "c1 = []\n",
    "c2 = []\n",
    "c3 = []\n",
    "for i in range(len(x_train)):\n",
    "    if y_train[i][0] == 'Iris-setosa':\n",
    "        clusters[1].append(i)\n",
    "        c1.append(x_train[i])\n",
    "    elif y_train[i][0] == 'Iris-versicolor':\n",
    "        clusters[2].append(i)\n",
    "        c2.append(x_train[i])\n",
    "    elif y_train[i][0] == 'Iris-virginica':\n",
    "        clusters[3].append(i)\n",
    "        c3.append(x_train[i])\n",
    "\n",
    "c1 = np.array(c1)\n",
    "c2 = np.array(c2)\n",
    "c3 = np.array(c3)\n",
    "clusters"
   ],
   "metadata": {
    "collapsed": false,
    "ExecuteTime": {
     "start_time": "2023-04-01T20:45:14.135910Z",
     "end_time": "2023-04-01T20:45:14.219445Z"
    }
   }
  },
  {
   "cell_type": "code",
   "execution_count": 86,
   "outputs": [
    {
     "data": {
      "text/plain": "array([[5.8, 4. , 1.2, 0.2],\n       [4.8, 3.4, 1.9, 0.2],\n       [4.4, 2.9, 1.4, 0.2],\n       [5.2, 3.5, 1.5, 0.2],\n       [4.5, 2.3, 1.3, 0.3],\n       [4.6, 3.6, 1. , 0.2],\n       [5.1, 3.5, 1.4, 0.3],\n       [5.1, 3.3, 1.7, 0.5],\n       [4.8, 3. , 1.4, 0.3],\n       [5. , 3.2, 1.2, 0.2],\n       [4.9, 3.1, 1.5, 0.1],\n       [5.1, 3.8, 1.5, 0.3],\n       [5. , 3.6, 1.4, 0.2],\n       [4.8, 3. , 1.4, 0.1],\n       [5.4, 3.7, 1.5, 0.2],\n       [4.8, 3.4, 1.6, 0.2],\n       [4.9, 3.1, 1.5, 0.1],\n       [4.7, 3.2, 1.6, 0.2],\n       [5.1, 3.4, 1.5, 0.2],\n       [5.1, 3.8, 1.9, 0.4],\n       [5.5, 3.5, 1.3, 0.2],\n       [4.8, 3.1, 1.6, 0.2],\n       [4.3, 3. , 1.1, 0.1],\n       [5.2, 4.1, 1.5, 0.1],\n       [5.4, 3.9, 1.3, 0.4],\n       [4.9, 3. , 1.4, 0.2],\n       [5.1, 3.8, 1.6, 0.2],\n       [5.7, 3.8, 1.7, 0.3],\n       [5.2, 3.4, 1.4, 0.2],\n       [5. , 3.3, 1.4, 0.2],\n       [5.4, 3.4, 1.7, 0.2],\n       [4.9, 3.1, 1.5, 0.1],\n       [5.3, 3.7, 1.5, 0.2],\n       [5.5, 4.2, 1.4, 0.2],\n       [5. , 3.5, 1.6, 0.6],\n       [5. , 3.4, 1.5, 0.2],\n       [4.7, 3.2, 1.3, 0.2],\n       [5. , 3.4, 1.6, 0.4],\n       [5.1, 3.7, 1.5, 0.4],\n       [5.1, 3.5, 1.4, 0.2]])"
     },
     "execution_count": 86,
     "metadata": {},
     "output_type": "execute_result"
    }
   ],
   "source": [
    "c1"
   ],
   "metadata": {
    "collapsed": false,
    "ExecuteTime": {
     "start_time": "2023-04-01T20:45:14.174713Z",
     "end_time": "2023-04-01T20:45:14.219639Z"
    }
   }
  },
  {
   "cell_type": "code",
   "execution_count": 87,
   "outputs": [
    {
     "data": {
      "text/plain": "array([5.03  , 3.42  , 1.4675, 0.235 ])"
     },
     "execution_count": 87,
     "metadata": {},
     "output_type": "execute_result"
    }
   ],
   "source": [
    "m1 = np.mean(c1, axis=0)\n",
    "m1"
   ],
   "metadata": {
    "collapsed": false,
    "ExecuteTime": {
     "start_time": "2023-04-01T20:45:14.174750Z",
     "end_time": "2023-04-01T20:45:14.219745Z"
    }
   }
  },
  {
   "cell_type": "code",
   "execution_count": 88,
   "outputs": [
    {
     "data": {
      "text/plain": "array([[6.6, 2.9, 4.6, 1.3],\n       [6.7, 3. , 5. , 1.7],\n       [6.2, 2.2, 4.5, 1.5],\n       [5.8, 2.7, 3.9, 1.2],\n       [6.4, 3.2, 4.5, 1.5],\n       [6. , 2.7, 5.1, 1.6],\n       [5.4, 3. , 4.5, 1.5],\n       [7. , 3.2, 4.7, 1.4],\n       [6.1, 2.8, 4.7, 1.2],\n       [5.7, 2.9, 4.2, 1.3],\n       [5.9, 3.2, 4.8, 1.8],\n       [5.1, 2.5, 3. , 1.1],\n       [5.7, 3. , 4.2, 1.2],\n       [5.7, 2.8, 4.1, 1.3],\n       [5.2, 2.7, 3.9, 1.4],\n       [6.3, 2.3, 4.4, 1.3],\n       [6.9, 3.1, 4.9, 1.5],\n       [5.9, 3. , 4.2, 1.5],\n       [5.7, 2.8, 4.5, 1.3],\n       [6.6, 3. , 4.4, 1.4],\n       [5.5, 2.4, 3.8, 1.1],\n       [6.1, 3. , 4.6, 1.4],\n       [6.4, 2.9, 4.3, 1.3],\n       [6. , 3.4, 4.5, 1.6],\n       [6.1, 2.8, 4. , 1.3],\n       [6.3, 3.3, 4.7, 1.6],\n       [6.1, 2.9, 4.7, 1.4],\n       [5.6, 2.9, 3.6, 1.3],\n       [6.5, 2.8, 4.6, 1.5],\n       [6. , 2.9, 4.5, 1.5],\n       [5.6, 2.7, 4.2, 1.3],\n       [5.7, 2.6, 3.5, 1. ],\n       [6. , 2.2, 4. , 1. ],\n       [6.2, 2.9, 4.3, 1.3],\n       [5.6, 2.5, 3.9, 1.1],\n       [5.5, 2.6, 4.4, 1.2],\n       [5. , 2. , 3.5, 1. ],\n       [5.6, 3. , 4.5, 1.5],\n       [5.5, 2.4, 3.7, 1. ],\n       [5. , 2.3, 3.3, 1. ]])"
     },
     "execution_count": 88,
     "metadata": {},
     "output_type": "execute_result"
    }
   ],
   "source": [
    "c2"
   ],
   "metadata": {
    "collapsed": false,
    "ExecuteTime": {
     "start_time": "2023-04-01T20:45:14.174783Z",
     "end_time": "2023-04-01T20:45:14.219868Z"
    }
   }
  },
  {
   "cell_type": "code",
   "execution_count": 89,
   "outputs": [
    {
     "data": {
      "text/plain": "array([5.93  , 2.7875, 4.2675, 1.335 ])"
     },
     "execution_count": 89,
     "metadata": {},
     "output_type": "execute_result"
    }
   ],
   "source": [
    "m2 = np.mean(c2, axis=0)\n",
    "m2"
   ],
   "metadata": {
    "collapsed": false,
    "ExecuteTime": {
     "start_time": "2023-04-01T20:45:14.174813Z",
     "end_time": "2023-04-01T20:45:14.219959Z"
    }
   }
  },
  {
   "cell_type": "code",
   "execution_count": 90,
   "outputs": [
    {
     "data": {
      "text/plain": "array([[6.9, 3.1, 5.4, 2.1],\n       [6.4, 2.7, 5.3, 1.9],\n       [6.4, 2.8, 5.6, 2.1],\n       [6.1, 3. , 4.9, 1.8],\n       [5.8, 2.7, 5.1, 1.9],\n       [5.8, 2.7, 5.1, 1.9],\n       [6.3, 3.4, 5.6, 2.4],\n       [6.5, 3. , 5.5, 1.8],\n       [6.8, 3.2, 5.9, 2.3],\n       [6.4, 3.1, 5.5, 1.8],\n       [6.3, 3.3, 6. , 2.5],\n       [6.7, 3.3, 5.7, 2.1],\n       [7.4, 2.8, 6.1, 1.9],\n       [7.7, 3.8, 6.7, 2.2],\n       [5.8, 2.8, 5.1, 2.4],\n       [6.4, 3.2, 5.3, 2.3],\n       [6.7, 3.3, 5.7, 2.5],\n       [7.1, 3. , 5.9, 2.1],\n       [7.7, 2.8, 6.7, 2. ],\n       [6.3, 2.8, 5.1, 1.5],\n       [6.4, 2.8, 5.6, 2.2],\n       [6.2, 3.4, 5.4, 2.3],\n       [7.2, 3.2, 6. , 1.8],\n       [6.7, 2.5, 5.8, 1.8],\n       [6.7, 3. , 5.2, 2.3],\n       [5.6, 2.8, 4.9, 2. ],\n       [7.6, 3. , 6.6, 2.1],\n       [6.5, 3. , 5.2, 2. ],\n       [6.3, 2.5, 5. , 1.9],\n       [6.3, 2.7, 4.9, 1.8],\n       [6.9, 3.2, 5.7, 2.3],\n       [5.9, 3. , 5.1, 1.8],\n       [6.5, 3.2, 5.1, 2. ],\n       [6.5, 3. , 5.8, 2.2],\n       [7.2, 3. , 5.8, 1.6],\n       [6. , 2.2, 5. , 1.5],\n       [6. , 3. , 4.8, 1.8],\n       [7.3, 2.9, 6.3, 1.8],\n       [7.9, 3.8, 6.4, 2. ],\n       [4.9, 2.5, 4.5, 1.7]])"
     },
     "execution_count": 90,
     "metadata": {},
     "output_type": "execute_result"
    }
   ],
   "source": [
    "c3"
   ],
   "metadata": {
    "collapsed": false,
    "ExecuteTime": {
     "start_time": "2023-04-01T20:45:14.174912Z",
     "end_time": "2023-04-01T20:45:14.220095Z"
    }
   }
  },
  {
   "cell_type": "code",
   "execution_count": 91,
   "outputs": [
    {
     "data": {
      "text/plain": "array([6.5525, 2.9875, 5.5325, 2.01  ])"
     },
     "execution_count": 91,
     "metadata": {},
     "output_type": "execute_result"
    }
   ],
   "source": [
    "m3 = np.mean(c3, axis=0)\n",
    "m3"
   ],
   "metadata": {
    "collapsed": false,
    "ExecuteTime": {
     "start_time": "2023-04-01T20:45:14.174964Z",
     "end_time": "2023-04-01T20:45:14.220189Z"
    }
   }
  },
  {
   "cell_type": "code",
   "execution_count": 92,
   "outputs": [
    {
     "data": {
      "text/plain": "array([[ 0.77  ],\n       [ 0.58  ],\n       [-0.2675],\n       [-0.035 ]])"
     },
     "execution_count": 92,
     "metadata": {},
     "output_type": "execute_result"
    }
   ],
   "source": [
    "(c1[0]-m1).reshape(4,1)"
   ],
   "metadata": {
    "collapsed": false,
    "ExecuteTime": {
     "start_time": "2023-04-01T20:45:14.175001Z",
     "end_time": "2023-04-01T20:45:14.220281Z"
    }
   }
  },
  {
   "cell_type": "code",
   "execution_count": 93,
   "outputs": [
    {
     "data": {
      "text/plain": "array([ 0.77  ,  0.58  , -0.2675, -0.035 ])"
     },
     "execution_count": 93,
     "metadata": {},
     "output_type": "execute_result"
    }
   ],
   "source": [
    "c1[0]-m1"
   ],
   "metadata": {
    "collapsed": false,
    "ExecuteTime": {
     "start_time": "2023-04-01T20:45:14.175065Z",
     "end_time": "2023-04-01T20:45:14.220372Z"
    }
   }
  },
  {
   "cell_type": "code",
   "execution_count": 94,
   "outputs": [
    {
     "data": {
      "text/plain": "array([[4.044  , 3.436  , 0.419  , 0.228  ],\n       [3.436  , 5.364  , 0.386  , 0.262  ],\n       [0.419  , 0.386  , 1.30775, 0.2355 ],\n       [0.228  , 0.262  , 0.2355 , 0.471  ]])"
     },
     "execution_count": 94,
     "metadata": {},
     "output_type": "execute_result"
    }
   ],
   "source": [
    "sj1 = np.zeros((4,4))\n",
    "for i in c1:\n",
    "    sj1 += np.matmul((i-m1).reshape(4,1), (i-m1).reshape(1,4))\n",
    "sj1"
   ],
   "metadata": {
    "collapsed": false,
    "ExecuteTime": {
     "start_time": "2023-04-01T20:45:14.175095Z",
     "end_time": "2023-04-01T20:45:14.220904Z"
    }
   }
  },
  {
   "cell_type": "code",
   "execution_count": 95,
   "outputs": [
    {
     "data": {
      "text/plain": "array([[9.404  , 3.085  , 6.489  , 1.988  ],\n       [3.085  , 4.00375, 3.44375, 1.7975 ],\n       [6.489  , 3.44375, 8.72775, 2.9255 ],\n       [1.988  , 1.7975 , 2.9255 , 1.611  ]])"
     },
     "execution_count": 95,
     "metadata": {},
     "output_type": "execute_result"
    }
   ],
   "source": [
    "sj2 = np.zeros((4,4))\n",
    "for i in c2:\n",
    "    sj2 += np.matmul((i-m2).reshape(4,1), (i-m2).reshape(1,4))\n",
    "sj2"
   ],
   "metadata": {
    "collapsed": false,
    "ExecuteTime": {
     "start_time": "2023-04-01T20:45:14.210894Z",
     "end_time": "2023-04-01T20:45:14.221003Z"
    }
   }
  },
  {
   "cell_type": "code",
   "execution_count": 96,
   "outputs": [
    {
     "data": {
      "text/plain": "array([[15.49975,  3.86625, 11.79175,  0.859  ],\n       [ 3.86625,  4.12375,  3.33625,  1.755  ],\n       [11.79175,  3.33625, 11.40775,  1.567  ],\n       [ 0.859  ,  1.755  ,  1.567  ,  2.596  ]])"
     },
     "execution_count": 96,
     "metadata": {},
     "output_type": "execute_result"
    }
   ],
   "source": [
    "sj3 = np.zeros((4,4))\n",
    "for i in c3:\n",
    "    sj3 += np.matmul((i-m3).reshape(4,1), (i-m3).reshape(1,4))\n",
    "sj3"
   ],
   "metadata": {
    "collapsed": false,
    "ExecuteTime": {
     "start_time": "2023-04-01T20:45:14.210973Z",
     "end_time": "2023-04-01T20:45:14.221103Z"
    }
   }
  },
  {
   "cell_type": "code",
   "execution_count": 97,
   "outputs": [],
   "source": [
    "sw = sj1+sj2+sj3"
   ],
   "metadata": {
    "collapsed": false,
    "ExecuteTime": {
     "start_time": "2023-04-01T20:45:14.211033Z",
     "end_time": "2023-04-01T20:45:14.221150Z"
    }
   }
  },
  {
   "cell_type": "code",
   "execution_count": 98,
   "outputs": [
    {
     "data": {
      "text/plain": "array([[28.94775, 10.38725, 18.69975,  3.075  ],\n       [10.38725, 13.4915 ,  7.166  ,  3.8145 ],\n       [18.69975,  7.166  , 21.44325,  4.728  ],\n       [ 3.075  ,  3.8145 ,  4.728  ,  4.678  ]])"
     },
     "execution_count": 98,
     "metadata": {},
     "output_type": "execute_result"
    }
   ],
   "source": [
    "sw"
   ],
   "metadata": {
    "collapsed": false,
    "ExecuteTime": {
     "start_time": "2023-04-01T20:45:14.211090Z",
     "end_time": "2023-04-01T20:45:14.221295Z"
    }
   }
  },
  {
   "cell_type": "code",
   "execution_count": 99,
   "outputs": [
    {
     "data": {
      "text/plain": "array([5.8375    , 3.065     , 3.75583333, 1.19333333])"
     },
     "execution_count": 99,
     "metadata": {},
     "output_type": "execute_result"
    }
   ],
   "source": [
    "m = (m1+m2+m3)/3\n",
    "m"
   ],
   "metadata": {
    "collapsed": false,
    "ExecuteTime": {
     "start_time": "2023-04-01T20:45:14.211152Z",
     "end_time": "2023-04-01T20:45:14.221392Z"
    }
   }
  },
  {
   "cell_type": "code",
   "execution_count": 100,
   "outputs": [
    {
     "data": {
      "text/plain": "array([[ 26.08225   , -11.4665    ,  73.91316667,  30.95416667],\n       [-11.4665    ,   5.041     , -32.49433333, -13.60833333],\n       [ 73.91316667, -32.49433333, 209.45877778,  87.71944444],\n       [ 30.95416667, -13.60833333,  87.71944444,  36.73611111]])"
     },
     "execution_count": 100,
     "metadata": {},
     "output_type": "execute_result"
    }
   ],
   "source": [
    "sb1 = len(c1)*np.matmul((m1-m).reshape(4,1), (m1-m).reshape(1,4))\n",
    "sb1"
   ],
   "metadata": {
    "collapsed": false,
    "ExecuteTime": {
     "start_time": "2023-04-01T20:45:14.211296Z",
     "end_time": "2023-04-01T20:45:14.221497Z"
    }
   }
  },
  {
   "cell_type": "code",
   "execution_count": 101,
   "outputs": [
    {
     "data": {
      "text/plain": "array([[ 0.34225   , -1.02675   ,  1.89316667,  0.52416667],\n       [-1.02675   ,  3.08025   , -5.6795    , -1.5725    ],\n       [ 1.89316667, -5.6795    , 10.47211111,  2.89944444],\n       [ 0.52416667, -1.5725    ,  2.89944444,  0.80277778]])"
     },
     "execution_count": 101,
     "metadata": {},
     "output_type": "execute_result"
    }
   ],
   "source": [
    "sb2 = len(c2)*np.matmul((m2-m).reshape(4,1), (m2-m).reshape(1,4))\n",
    "sb2"
   ],
   "metadata": {
    "collapsed": false,
    "ExecuteTime": {
     "start_time": "2023-04-01T20:45:14.211355Z",
     "end_time": "2023-04-01T20:45:14.221629Z"
    }
   }
  },
  {
   "cell_type": "code",
   "execution_count": 102,
   "outputs": [
    {
     "data": {
      "text/plain": "array([[ 20.449     ,  -2.2165    ,  50.81266667,  23.35666667],\n       [ -2.2165    ,   0.24025   ,  -5.50766667,  -2.53166667],\n       [ 50.81266667,  -5.50766667, 126.26177778,  58.03777778],\n       [ 23.35666667,  -2.53166667,  58.03777778,  26.67777778]])"
     },
     "execution_count": 102,
     "metadata": {},
     "output_type": "execute_result"
    }
   ],
   "source": [
    "sb3 = len(c3)*np.matmul((m3-m).reshape(4,1), (m3-m).reshape(1,4))\n",
    "sb3"
   ],
   "metadata": {
    "collapsed": false,
    "ExecuteTime": {
     "start_time": "2023-04-01T20:45:14.211416Z",
     "end_time": "2023-04-01T20:45:14.221730Z"
    }
   }
  },
  {
   "cell_type": "code",
   "execution_count": 103,
   "outputs": [
    {
     "data": {
      "text/plain": "array([[ 46.8735    , -14.70975   , 126.619     ,  54.835     ],\n       [-14.70975   ,   8.3615    , -43.6815    , -17.7125    ],\n       [126.619     , -43.6815    , 346.19266667, 148.65666667],\n       [ 54.835     , -17.7125    , 148.65666667,  64.21666667]])"
     },
     "execution_count": 103,
     "metadata": {},
     "output_type": "execute_result"
    }
   ],
   "source": [
    "sb = sb1+sb2+sb3\n",
    "sb"
   ],
   "metadata": {
    "collapsed": false,
    "ExecuteTime": {
     "start_time": "2023-04-01T20:45:14.211451Z",
     "end_time": "2023-04-01T20:45:14.221841Z"
    }
   }
  },
  {
   "cell_type": "code",
   "execution_count": 104,
   "outputs": [
    {
     "data": {
      "text/plain": "array([[ -1.96297753,   0.73284402,  -5.42566661,  -2.31212083],\n       [ -6.60059822,   2.51161888, -18.29398304,  -7.78098991],\n       [  7.42030166,  -2.73160329,  20.46899001,   8.73490464],\n       [ 10.8948165 ,  -3.55526833,  29.57366504,  12.76365864]])"
     },
     "execution_count": 104,
     "metadata": {},
     "output_type": "execute_result"
    }
   ],
   "source": [
    "sw_inv_sb = np.matmul(np.linalg.inv(sw), sb)\n",
    "sw_inv_sb"
   ],
   "metadata": {
    "collapsed": false,
    "ExecuteTime": {
     "start_time": "2023-04-01T20:45:14.247681Z",
     "end_time": "2023-04-01T20:45:14.324177Z"
    }
   }
  },
  {
   "cell_type": "code",
   "execution_count": 105,
   "outputs": [],
   "source": [
    "eigenval, eigenvec = np.linalg.eig(sw_inv_sb)"
   ],
   "metadata": {
    "collapsed": false,
    "ExecuteTime": {
     "start_time": "2023-04-01T20:45:14.247749Z",
     "end_time": "2023-04-01T20:45:14.324314Z"
    }
   }
  },
  {
   "cell_type": "code",
   "execution_count": 106,
   "outputs": [
    {
     "data": {
      "text/plain": "array([3.35160251e+01, 2.65264869e-01, 3.46175630e-15, 1.14884274e-15])"
     },
     "execution_count": 106,
     "metadata": {},
     "output_type": "execute_result"
    }
   ],
   "source": [
    "eigenval"
   ],
   "metadata": {
    "collapsed": false,
    "ExecuteTime": {
     "start_time": "2023-04-01T20:45:14.247796Z",
     "end_time": "2023-04-01T20:45:14.324544Z"
    }
   }
  },
  {
   "cell_type": "code",
   "execution_count": 107,
   "outputs": [
    {
     "data": {
      "text/plain": "array([[ 0.13356863, -0.11180594, -0.24904972, -0.47320857],\n       [ 0.45065621, -0.50689157,  0.38780245,  0.42943656],\n       [-0.50366235,  0.3158995 ,  0.46468377,  0.48397844],\n       [-0.72483973, -0.79420896, -0.75607704, -0.59784844]])"
     },
     "execution_count": 107,
     "metadata": {},
     "output_type": "execute_result"
    }
   ],
   "source": [
    "eigenvec"
   ],
   "metadata": {
    "collapsed": false,
    "ExecuteTime": {
     "start_time": "2023-04-01T20:45:14.247849Z",
     "end_time": "2023-04-01T20:45:14.324645Z"
    }
   }
  },
  {
   "cell_type": "code",
   "execution_count": 108,
   "outputs": [
    {
     "data": {
      "text/plain": "array([ 0.13356863, -0.11180594, -0.24904972, -0.47320857])"
     },
     "execution_count": 108,
     "metadata": {},
     "output_type": "execute_result"
    }
   ],
   "source": [
    "largest_eigenvec = eigenvec[np.argsort(eigenval)[-1]]\n",
    "largest_eigenvec"
   ],
   "metadata": {
    "collapsed": false,
    "ExecuteTime": {
     "start_time": "2023-04-01T20:45:14.247903Z",
     "end_time": "2023-04-01T20:45:14.324738Z"
    }
   }
  },
  {
   "cell_type": "code",
   "execution_count": 109,
   "outputs": [
    {
     "data": {
      "text/plain": "['Iris-setosa',\n 'Iris-setosa',\n 'Iris-virginica',\n 'Iris-versicolor',\n 'Iris-setosa',\n 'Iris-setosa',\n 'Iris-versicolor',\n 'Iris-setosa',\n 'Iris-virginica',\n 'Iris-versicolor',\n 'Iris-virginica',\n 'Iris-versicolor',\n 'Iris-setosa',\n 'Iris-setosa',\n 'Iris-virginica',\n 'Iris-versicolor',\n 'Iris-setosa',\n 'Iris-versicolor',\n 'Iris-virginica',\n 'Iris-versicolor',\n 'Iris-setosa',\n 'Iris-setosa',\n 'Iris-virginica',\n 'Iris-versicolor',\n 'Iris-versicolor',\n 'Iris-setosa',\n 'Iris-virginica',\n 'Iris-setosa',\n 'Iris-virginica',\n 'Iris-versicolor',\n 'Iris-setosa',\n 'Iris-setosa',\n 'Iris-virginica',\n 'Iris-versicolor',\n 'Iris-setosa',\n 'Iris-setosa',\n 'Iris-versicolor',\n 'Iris-virginica',\n 'Iris-virginica',\n 'Iris-setosa',\n 'Iris-virginica',\n 'Iris-versicolor',\n 'Iris-setosa',\n 'Iris-setosa',\n 'Iris-virginica',\n 'Iris-virginica',\n 'Iris-virginica',\n 'Iris-versicolor',\n 'Iris-versicolor',\n 'Iris-versicolor',\n 'Iris-setosa',\n 'Iris-setosa',\n 'Iris-virginica',\n 'Iris-virginica',\n 'Iris-versicolor',\n 'Iris-virginica',\n 'Iris-versicolor',\n 'Iris-virginica',\n 'Iris-setosa',\n 'Iris-virginica',\n 'Iris-setosa',\n 'Iris-versicolor',\n 'Iris-versicolor',\n 'Iris-virginica',\n 'Iris-virginica',\n 'Iris-setosa',\n 'Iris-versicolor',\n 'Iris-setosa',\n 'Iris-versicolor',\n 'Iris-versicolor',\n 'Iris-versicolor',\n 'Iris-setosa',\n 'Iris-virginica',\n 'Iris-setosa',\n 'Iris-virginica',\n 'Iris-versicolor',\n 'Iris-virginica',\n 'Iris-versicolor',\n 'Iris-virginica',\n 'Iris-versicolor',\n 'Iris-setosa',\n 'Iris-virginica',\n 'Iris-versicolor',\n 'Iris-virginica',\n 'Iris-versicolor',\n 'Iris-setosa',\n 'Iris-versicolor',\n 'Iris-virginica',\n 'Iris-setosa',\n 'Iris-versicolor',\n 'Iris-setosa',\n 'Iris-setosa',\n 'Iris-setosa',\n 'Iris-versicolor',\n 'Iris-virginica',\n 'Iris-setosa',\n 'Iris-setosa',\n 'Iris-virginica',\n 'Iris-setosa',\n 'Iris-versicolor',\n 'Iris-virginica',\n 'Iris-versicolor',\n 'Iris-virginica',\n 'Iris-virginica',\n 'Iris-versicolor',\n 'Iris-versicolor',\n 'Iris-virginica',\n 'Iris-versicolor',\n 'Iris-setosa',\n 'Iris-versicolor',\n 'Iris-versicolor',\n 'Iris-setosa',\n 'Iris-versicolor',\n 'Iris-virginica',\n 'Iris-virginica',\n 'Iris-virginica',\n 'Iris-setosa',\n 'Iris-setosa',\n 'Iris-virginica',\n 'Iris-virginica']"
     },
     "execution_count": 109,
     "metadata": {},
     "output_type": "execute_result"
    }
   ],
   "source": [
    "projected_data = x_train.dot(largest_eigenvec.T)\n",
    "# projected_data.shape\n",
    "\n",
    "\n",
    "train_data = [i for i in projected_data]#list(zip(projected_data, y_train))\n",
    "classes = [j[0] for j in y_train]\n",
    "classes"
   ],
   "metadata": {
    "collapsed": false,
    "ExecuteTime": {
     "start_time": "2023-04-01T20:45:14.248026Z",
     "end_time": "2023-04-01T20:45:14.324889Z"
    }
   }
  },
  {
   "cell_type": "code",
   "execution_count": 110,
   "outputs": [
    {
     "data": {
      "text/plain": "array([[-0.06602709],\n       [-0.30684696],\n       [-1.76358137],\n       [-1.20348413],\n       [-0.17984658],\n       [-0.16498021],\n       [-1.49021118],\n       [-0.12182204],\n       [-1.66609662],\n       [-1.24838417],\n       [-1.84663384],\n       [-1.06632219],\n       [-0.13177712],\n       [-0.20075296],\n       [-1.59276824],\n       [-1.33347638],\n       [-0.3477484 ],\n       [-1.52775155],\n       [-1.69642785],\n       [-1.44468382],\n       [-0.18492058],\n       [-0.08343724],\n       [-1.69642785],\n       [-1.25582429],\n       [-1.23667197],\n       [-0.11300757],\n       [-2.06903684],\n       [-0.25919971],\n       [-1.68877062],\n       [-1.22407601],\n       [-0.17796956],\n       [-0.09027886],\n       [-2.0072854 ],\n       [-1.61693819],\n       [-0.16062767],\n       [-0.23213204],\n       [-0.86599343],\n       [-1.71330808],\n       [-2.20479699],\n       [-0.11300757],\n       [-1.8873712 ],\n       [-1.18793575],\n       [-0.22312772],\n       [-0.16715648],\n       [-1.74294836],\n       [-2.10607611],\n       [-1.94421273],\n       [-1.18799044],\n       [-1.24110508],\n       [-1.12666121],\n       [-0.40614046],\n       [-0.07509968],\n       [-1.91128302],\n       [-2.07665463],\n       [-1.35513136],\n       [-1.85021191],\n       [-1.30318459],\n       [-1.89962846],\n       [-0.19859026],\n       [-1.4515407 ],\n       [-0.08234826],\n       [-1.28761033],\n       [-1.21217564],\n       [-1.8939547 ],\n       [-1.9852629 ],\n       [-0.18474292],\n       [-1.00062516],\n       [-0.22782063],\n       [-1.3287699 ],\n       [-1.15548294],\n       [-1.45658588],\n       [-0.12424286],\n       [-1.74215863],\n       [-0.23678383],\n       [-1.68086884],\n       [-1.10965802],\n       [-1.82394627],\n       [-1.45514464],\n       [-1.73183309],\n       [-1.34249428],\n       [-0.22886848],\n       [-1.9577624 ],\n       [-1.08800304],\n       [-1.70869742],\n       [-1.30030212],\n       [-0.12889465],\n       [-1.35336205],\n       [-1.58237738],\n       [-0.14442778],\n       [-1.21507169],\n       [-0.17689584],\n       [-0.11300757],\n       [-0.17398454],\n       [-0.87423685],\n       [-1.53251274],\n       [-0.17826881],\n       [-0.40588234],\n       [-1.94411859],\n       [-0.18051334],\n       [-0.91396875],\n       [-1.66929191],\n       [-1.18219667],\n       [-1.70615364],\n       [-1.95276897],\n       [-1.02335387],\n       [-1.21973704],\n       [-1.57534578],\n       [-0.90065133],\n       [-0.1484128 ],\n       [-1.4179701 ],\n       [-0.92839933],\n       [-0.30006003],\n       [-0.88438317],\n       [-1.39962275],\n       [-1.58122013],\n       [-1.7699749 ],\n       [-0.29533998],\n       [-0.1534321 ],\n       [-1.91000576],\n       [-1.55020688]])"
     },
     "execution_count": 110,
     "metadata": {},
     "output_type": "execute_result"
    }
   ],
   "source": [
    "train_data = np.array(train_data).reshape(-1,1)\n",
    "train_data"
   ],
   "metadata": {
    "collapsed": false,
    "ExecuteTime": {
     "start_time": "2023-04-01T20:45:14.248070Z",
     "end_time": "2023-04-01T20:45:14.325057Z"
    }
   }
  },
  {
   "cell_type": "code",
   "execution_count": 111,
   "outputs": [
    {
     "data": {
      "text/plain": "KNeighborsClassifier()",
      "text/html": "<style>#sk-container-id-5 {color: black;background-color: white;}#sk-container-id-5 pre{padding: 0;}#sk-container-id-5 div.sk-toggleable {background-color: white;}#sk-container-id-5 label.sk-toggleable__label {cursor: pointer;display: block;width: 100%;margin-bottom: 0;padding: 0.3em;box-sizing: border-box;text-align: center;}#sk-container-id-5 label.sk-toggleable__label-arrow:before {content: \"▸\";float: left;margin-right: 0.25em;color: #696969;}#sk-container-id-5 label.sk-toggleable__label-arrow:hover:before {color: black;}#sk-container-id-5 div.sk-estimator:hover label.sk-toggleable__label-arrow:before {color: black;}#sk-container-id-5 div.sk-toggleable__content {max-height: 0;max-width: 0;overflow: hidden;text-align: left;background-color: #f0f8ff;}#sk-container-id-5 div.sk-toggleable__content pre {margin: 0.2em;color: black;border-radius: 0.25em;background-color: #f0f8ff;}#sk-container-id-5 input.sk-toggleable__control:checked~div.sk-toggleable__content {max-height: 200px;max-width: 100%;overflow: auto;}#sk-container-id-5 input.sk-toggleable__control:checked~label.sk-toggleable__label-arrow:before {content: \"▾\";}#sk-container-id-5 div.sk-estimator input.sk-toggleable__control:checked~label.sk-toggleable__label {background-color: #d4ebff;}#sk-container-id-5 div.sk-label input.sk-toggleable__control:checked~label.sk-toggleable__label {background-color: #d4ebff;}#sk-container-id-5 input.sk-hidden--visually {border: 0;clip: rect(1px 1px 1px 1px);clip: rect(1px, 1px, 1px, 1px);height: 1px;margin: -1px;overflow: hidden;padding: 0;position: absolute;width: 1px;}#sk-container-id-5 div.sk-estimator {font-family: monospace;background-color: #f0f8ff;border: 1px dotted black;border-radius: 0.25em;box-sizing: border-box;margin-bottom: 0.5em;}#sk-container-id-5 div.sk-estimator:hover {background-color: #d4ebff;}#sk-container-id-5 div.sk-parallel-item::after {content: \"\";width: 100%;border-bottom: 1px solid gray;flex-grow: 1;}#sk-container-id-5 div.sk-label:hover label.sk-toggleable__label {background-color: #d4ebff;}#sk-container-id-5 div.sk-serial::before {content: \"\";position: absolute;border-left: 1px solid gray;box-sizing: border-box;top: 0;bottom: 0;left: 50%;z-index: 0;}#sk-container-id-5 div.sk-serial {display: flex;flex-direction: column;align-items: center;background-color: white;padding-right: 0.2em;padding-left: 0.2em;position: relative;}#sk-container-id-5 div.sk-item {position: relative;z-index: 1;}#sk-container-id-5 div.sk-parallel {display: flex;align-items: stretch;justify-content: center;background-color: white;position: relative;}#sk-container-id-5 div.sk-item::before, #sk-container-id-5 div.sk-parallel-item::before {content: \"\";position: absolute;border-left: 1px solid gray;box-sizing: border-box;top: 0;bottom: 0;left: 50%;z-index: -1;}#sk-container-id-5 div.sk-parallel-item {display: flex;flex-direction: column;z-index: 1;position: relative;background-color: white;}#sk-container-id-5 div.sk-parallel-item:first-child::after {align-self: flex-end;width: 50%;}#sk-container-id-5 div.sk-parallel-item:last-child::after {align-self: flex-start;width: 50%;}#sk-container-id-5 div.sk-parallel-item:only-child::after {width: 0;}#sk-container-id-5 div.sk-dashed-wrapped {border: 1px dashed gray;margin: 0 0.4em 0.5em 0.4em;box-sizing: border-box;padding-bottom: 0.4em;background-color: white;}#sk-container-id-5 div.sk-label label {font-family: monospace;font-weight: bold;display: inline-block;line-height: 1.2em;}#sk-container-id-5 div.sk-label-container {text-align: center;}#sk-container-id-5 div.sk-container {/* jupyter's `normalize.less` sets `[hidden] { display: none; }` but bootstrap.min.css set `[hidden] { display: none !important; }` so we also need the `!important` here to be able to override the default hidden behavior on the sphinx rendered scikit-learn.org. See: https://github.com/scikit-learn/scikit-learn/issues/21755 */display: inline-block !important;position: relative;}#sk-container-id-5 div.sk-text-repr-fallback {display: none;}</style><div id=\"sk-container-id-5\" class=\"sk-top-container\"><div class=\"sk-text-repr-fallback\"><pre>KNeighborsClassifier()</pre><b>In a Jupyter environment, please rerun this cell to show the HTML representation or trust the notebook. <br />On GitHub, the HTML representation is unable to render, please try loading this page with nbviewer.org.</b></div><div class=\"sk-container\" hidden><div class=\"sk-item\"><div class=\"sk-estimator sk-toggleable\"><input class=\"sk-toggleable__control sk-hidden--visually\" id=\"sk-estimator-id-5\" type=\"checkbox\" checked><label for=\"sk-estimator-id-5\" class=\"sk-toggleable__label sk-toggleable__label-arrow\">KNeighborsClassifier</label><div class=\"sk-toggleable__content\"><pre>KNeighborsClassifier()</pre></div></div></div></div></div>"
     },
     "execution_count": 111,
     "metadata": {},
     "output_type": "execute_result"
    }
   ],
   "source": [
    "from sklearn.neighbors import KNeighborsClassifier\n",
    "\n",
    "knn = KNeighborsClassifier(n_neighbors=5)\n",
    "knn.fit(train_data, classes)"
   ],
   "metadata": {
    "collapsed": false,
    "ExecuteTime": {
     "start_time": "2023-04-01T20:45:14.248124Z",
     "end_time": "2023-04-01T20:45:14.326185Z"
    }
   }
  },
  {
   "cell_type": "code",
   "execution_count": 112,
   "outputs": [
    {
     "data": {
      "text/plain": "array([[-0.18667464],\n       [-0.20039901],\n       [-0.22172761],\n       [-0.16069594],\n       [-0.29346296],\n       [-2.06903979],\n       [-1.15625742],\n       [-0.25635668],\n       [-1.72920873],\n       [-1.20999937],\n       [-1.22370849],\n       [-0.1661222 ],\n       [-1.08004656],\n       [-1.13389623],\n       [-1.98206761],\n       [-0.18920485],\n       [-1.36818898],\n       [-1.91452239],\n       [-1.70983941],\n       [-0.18848339],\n       [-1.53214522],\n       [-1.79066261],\n       [-1.78350817],\n       [-1.26272061],\n       [-0.32744052],\n       [-2.14303198],\n       [-1.53309724],\n       [-1.02149041],\n       [-0.90892062],\n       [-1.33203514]])"
     },
     "execution_count": 112,
     "metadata": {},
     "output_type": "execute_result"
    }
   ],
   "source": [
    "projected_data_test = x_test.dot(largest_eigenvec.T)\n",
    "projected_data_test = projected_data_test.reshape(-1,1)\n",
    "projected_data_test"
   ],
   "metadata": {
    "collapsed": false,
    "ExecuteTime": {
     "start_time": "2023-04-01T20:45:14.288411Z",
     "end_time": "2023-04-01T20:45:14.326308Z"
    }
   }
  },
  {
   "cell_type": "code",
   "execution_count": 113,
   "outputs": [
    {
     "data": {
      "text/plain": "array(['Iris-setosa', 'Iris-setosa', 'Iris-setosa', 'Iris-setosa',\n       'Iris-setosa', 'Iris-virginica', 'Iris-versicolor', 'Iris-setosa',\n       'Iris-virginica', 'Iris-versicolor', 'Iris-versicolor',\n       'Iris-setosa', 'Iris-versicolor', 'Iris-versicolor',\n       'Iris-virginica', 'Iris-setosa', 'Iris-versicolor',\n       'Iris-virginica', 'Iris-virginica', 'Iris-setosa',\n       'Iris-virginica', 'Iris-virginica', 'Iris-virginica',\n       'Iris-versicolor', 'Iris-setosa', 'Iris-virginica',\n       'Iris-virginica', 'Iris-versicolor', 'Iris-versicolor',\n       'Iris-versicolor'], dtype='<U15')"
     },
     "execution_count": 113,
     "metadata": {},
     "output_type": "execute_result"
    }
   ],
   "source": [
    "predicted_data = knn.predict(projected_data_test)\n",
    "predicted_data"
   ],
   "metadata": {
    "collapsed": false,
    "ExecuteTime": {
     "start_time": "2023-04-01T20:45:14.288452Z",
     "end_time": "2023-04-01T20:45:14.326412Z"
    }
   }
  },
  {
   "cell_type": "code",
   "execution_count": 114,
   "outputs": [
    {
     "name": "stdout",
     "output_type": "stream",
     "text": [
      "1.0\n"
     ]
    }
   ],
   "source": [
    "from sklearn.metrics import accuracy_score\n",
    "print(accuracy_score(y_test, predicted_data))"
   ],
   "metadata": {
    "collapsed": false,
    "ExecuteTime": {
     "start_time": "2023-04-01T20:45:14.288496Z",
     "end_time": "2023-04-01T20:45:14.326504Z"
    }
   }
  },
  {
   "cell_type": "code",
   "execution_count": 115,
   "outputs": [
    {
     "data": {
      "text/plain": "KNeighborsClassifier()",
      "text/html": "<style>#sk-container-id-6 {color: black;background-color: white;}#sk-container-id-6 pre{padding: 0;}#sk-container-id-6 div.sk-toggleable {background-color: white;}#sk-container-id-6 label.sk-toggleable__label {cursor: pointer;display: block;width: 100%;margin-bottom: 0;padding: 0.3em;box-sizing: border-box;text-align: center;}#sk-container-id-6 label.sk-toggleable__label-arrow:before {content: \"▸\";float: left;margin-right: 0.25em;color: #696969;}#sk-container-id-6 label.sk-toggleable__label-arrow:hover:before {color: black;}#sk-container-id-6 div.sk-estimator:hover label.sk-toggleable__label-arrow:before {color: black;}#sk-container-id-6 div.sk-toggleable__content {max-height: 0;max-width: 0;overflow: hidden;text-align: left;background-color: #f0f8ff;}#sk-container-id-6 div.sk-toggleable__content pre {margin: 0.2em;color: black;border-radius: 0.25em;background-color: #f0f8ff;}#sk-container-id-6 input.sk-toggleable__control:checked~div.sk-toggleable__content {max-height: 200px;max-width: 100%;overflow: auto;}#sk-container-id-6 input.sk-toggleable__control:checked~label.sk-toggleable__label-arrow:before {content: \"▾\";}#sk-container-id-6 div.sk-estimator input.sk-toggleable__control:checked~label.sk-toggleable__label {background-color: #d4ebff;}#sk-container-id-6 div.sk-label input.sk-toggleable__control:checked~label.sk-toggleable__label {background-color: #d4ebff;}#sk-container-id-6 input.sk-hidden--visually {border: 0;clip: rect(1px 1px 1px 1px);clip: rect(1px, 1px, 1px, 1px);height: 1px;margin: -1px;overflow: hidden;padding: 0;position: absolute;width: 1px;}#sk-container-id-6 div.sk-estimator {font-family: monospace;background-color: #f0f8ff;border: 1px dotted black;border-radius: 0.25em;box-sizing: border-box;margin-bottom: 0.5em;}#sk-container-id-6 div.sk-estimator:hover {background-color: #d4ebff;}#sk-container-id-6 div.sk-parallel-item::after {content: \"\";width: 100%;border-bottom: 1px solid gray;flex-grow: 1;}#sk-container-id-6 div.sk-label:hover label.sk-toggleable__label {background-color: #d4ebff;}#sk-container-id-6 div.sk-serial::before {content: \"\";position: absolute;border-left: 1px solid gray;box-sizing: border-box;top: 0;bottom: 0;left: 50%;z-index: 0;}#sk-container-id-6 div.sk-serial {display: flex;flex-direction: column;align-items: center;background-color: white;padding-right: 0.2em;padding-left: 0.2em;position: relative;}#sk-container-id-6 div.sk-item {position: relative;z-index: 1;}#sk-container-id-6 div.sk-parallel {display: flex;align-items: stretch;justify-content: center;background-color: white;position: relative;}#sk-container-id-6 div.sk-item::before, #sk-container-id-6 div.sk-parallel-item::before {content: \"\";position: absolute;border-left: 1px solid gray;box-sizing: border-box;top: 0;bottom: 0;left: 50%;z-index: -1;}#sk-container-id-6 div.sk-parallel-item {display: flex;flex-direction: column;z-index: 1;position: relative;background-color: white;}#sk-container-id-6 div.sk-parallel-item:first-child::after {align-self: flex-end;width: 50%;}#sk-container-id-6 div.sk-parallel-item:last-child::after {align-self: flex-start;width: 50%;}#sk-container-id-6 div.sk-parallel-item:only-child::after {width: 0;}#sk-container-id-6 div.sk-dashed-wrapped {border: 1px dashed gray;margin: 0 0.4em 0.5em 0.4em;box-sizing: border-box;padding-bottom: 0.4em;background-color: white;}#sk-container-id-6 div.sk-label label {font-family: monospace;font-weight: bold;display: inline-block;line-height: 1.2em;}#sk-container-id-6 div.sk-label-container {text-align: center;}#sk-container-id-6 div.sk-container {/* jupyter's `normalize.less` sets `[hidden] { display: none; }` but bootstrap.min.css set `[hidden] { display: none !important; }` so we also need the `!important` here to be able to override the default hidden behavior on the sphinx rendered scikit-learn.org. See: https://github.com/scikit-learn/scikit-learn/issues/21755 */display: inline-block !important;position: relative;}#sk-container-id-6 div.sk-text-repr-fallback {display: none;}</style><div id=\"sk-container-id-6\" class=\"sk-top-container\"><div class=\"sk-text-repr-fallback\"><pre>KNeighborsClassifier()</pre><b>In a Jupyter environment, please rerun this cell to show the HTML representation or trust the notebook. <br />On GitHub, the HTML representation is unable to render, please try loading this page with nbviewer.org.</b></div><div class=\"sk-container\" hidden><div class=\"sk-item\"><div class=\"sk-estimator sk-toggleable\"><input class=\"sk-toggleable__control sk-hidden--visually\" id=\"sk-estimator-id-6\" type=\"checkbox\" checked><label for=\"sk-estimator-id-6\" class=\"sk-toggleable__label sk-toggleable__label-arrow\">KNeighborsClassifier</label><div class=\"sk-toggleable__content\"><pre>KNeighborsClassifier()</pre></div></div></div></div></div>"
     },
     "execution_count": 115,
     "metadata": {},
     "output_type": "execute_result"
    }
   ],
   "source": [
    "knn2 = KNeighborsClassifier(n_neighbors=5)\n",
    "knn.fit(x_train, y_train.reshape(1,-1)[0])"
   ],
   "metadata": {
    "collapsed": false,
    "ExecuteTime": {
     "start_time": "2023-04-01T20:45:14.288531Z",
     "end_time": "2023-04-01T20:45:14.326592Z"
    }
   }
  },
  {
   "cell_type": "code",
   "execution_count": 116,
   "outputs": [
    {
     "data": {
      "text/plain": "array(['Iris-setosa', 'Iris-setosa', 'Iris-setosa', 'Iris-setosa',\n       'Iris-setosa', 'Iris-virginica', 'Iris-versicolor', 'Iris-setosa',\n       'Iris-virginica', 'Iris-versicolor', 'Iris-versicolor',\n       'Iris-setosa', 'Iris-versicolor', 'Iris-versicolor',\n       'Iris-virginica', 'Iris-setosa', 'Iris-virginica',\n       'Iris-virginica', 'Iris-virginica', 'Iris-setosa',\n       'Iris-virginica', 'Iris-virginica', 'Iris-virginica',\n       'Iris-versicolor', 'Iris-setosa', 'Iris-virginica',\n       'Iris-virginica', 'Iris-versicolor', 'Iris-versicolor',\n       'Iris-versicolor'], dtype='<U15')"
     },
     "execution_count": 116,
     "metadata": {},
     "output_type": "execute_result"
    }
   ],
   "source": [
    "predicted_data2 = knn.predict(x_test)\n",
    "predicted_data2"
   ],
   "metadata": {
    "collapsed": false,
    "ExecuteTime": {
     "start_time": "2023-04-01T20:45:14.288648Z",
     "end_time": "2023-04-01T20:45:14.326697Z"
    }
   }
  },
  {
   "cell_type": "code",
   "execution_count": 117,
   "outputs": [
    {
     "name": "stdout",
     "output_type": "stream",
     "text": [
      "0.9666666666666667\n"
     ]
    }
   ],
   "source": [
    "print(accuracy_score(y_test, predicted_data2))"
   ],
   "metadata": {
    "collapsed": false,
    "ExecuteTime": {
     "start_time": "2023-04-01T20:45:14.288681Z",
     "end_time": "2023-04-01T20:45:14.326781Z"
    }
   }
  },
  {
   "cell_type": "code",
   "execution_count": 117,
   "outputs": [],
   "source": [],
   "metadata": {
    "collapsed": false,
    "ExecuteTime": {
     "start_time": "2023-04-01T20:45:14.288711Z",
     "end_time": "2023-04-01T20:45:14.326823Z"
    }
   }
  }
 ],
 "metadata": {
  "kernelspec": {
   "display_name": "Python 3",
   "language": "python",
   "name": "python3"
  },
  "language_info": {
   "codemirror_mode": {
    "name": "ipython",
    "version": 2
   },
   "file_extension": ".py",
   "mimetype": "text/x-python",
   "name": "python",
   "nbconvert_exporter": "python",
   "pygments_lexer": "ipython2",
   "version": "2.7.6"
  }
 },
 "nbformat": 4,
 "nbformat_minor": 0
}
