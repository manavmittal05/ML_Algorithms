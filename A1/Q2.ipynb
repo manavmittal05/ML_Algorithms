{
 "cells": [
  {
   "cell_type": "code",
   "execution_count": 1,
   "metadata": {
    "collapsed": true,
    "ExecuteTime": {
     "start_time": "2023-03-31T18:34:41.978987Z",
     "end_time": "2023-03-31T18:34:42.152671Z"
    }
   },
   "outputs": [],
   "source": [
    "import numpy as np\n",
    "import pandas as pd"
   ]
  },
  {
   "cell_type": "code",
   "execution_count": 2,
   "outputs": [
    {
     "data": {
      "text/plain": "     Age  Sex  ChestPain  RestBP  Chol  Fbs  RestECG  MaxHR  ExAng  Oldpeak  \\\n0     63    1          3     145   233    1        2    150      0      2.3   \n1     67    1          0     160   286    0        2    108      1      1.5   \n2     67    1          0     120   229    0        2    129      1      2.6   \n3     37    1          1     130   250    0        0    187      0      3.5   \n4     41    0          2     130   204    0        2    172      0      1.4   \n..   ...  ...        ...     ...   ...  ...      ...    ...    ...      ...   \n297   57    0          0     140   241    0        0    123      1      0.2   \n298   45    1          3     110   264    0        0    132      0      1.2   \n299   68    1          0     144   193    1        0    141      0      3.4   \n300   57    1          0     130   131    0        0    115      1      1.2   \n301   57    0          2     130   236    0        2    174      0      0.0   \n\n     Slope   Ca  Thal  AHD  \n0        3  0.0   1.0    0  \n1        2  3.0   0.0    1  \n2        2  2.0   2.0    1  \n3        3  0.0   0.0    0  \n4        1  0.0   0.0    0  \n..     ...  ...   ...  ...  \n297      2  0.0   2.0    1  \n298      2  0.0   2.0    1  \n299      2  2.0   2.0    1  \n300      2  1.0   2.0    1  \n301      2  1.0   0.0    1  \n\n[297 rows x 14 columns]",
      "text/html": "<div>\n<style scoped>\n    .dataframe tbody tr th:only-of-type {\n        vertical-align: middle;\n    }\n\n    .dataframe tbody tr th {\n        vertical-align: top;\n    }\n\n    .dataframe thead th {\n        text-align: right;\n    }\n</style>\n<table border=\"1\" class=\"dataframe\">\n  <thead>\n    <tr style=\"text-align: right;\">\n      <th></th>\n      <th>Age</th>\n      <th>Sex</th>\n      <th>ChestPain</th>\n      <th>RestBP</th>\n      <th>Chol</th>\n      <th>Fbs</th>\n      <th>RestECG</th>\n      <th>MaxHR</th>\n      <th>ExAng</th>\n      <th>Oldpeak</th>\n      <th>Slope</th>\n      <th>Ca</th>\n      <th>Thal</th>\n      <th>AHD</th>\n    </tr>\n  </thead>\n  <tbody>\n    <tr>\n      <th>0</th>\n      <td>63</td>\n      <td>1</td>\n      <td>3</td>\n      <td>145</td>\n      <td>233</td>\n      <td>1</td>\n      <td>2</td>\n      <td>150</td>\n      <td>0</td>\n      <td>2.3</td>\n      <td>3</td>\n      <td>0.0</td>\n      <td>1.0</td>\n      <td>0</td>\n    </tr>\n    <tr>\n      <th>1</th>\n      <td>67</td>\n      <td>1</td>\n      <td>0</td>\n      <td>160</td>\n      <td>286</td>\n      <td>0</td>\n      <td>2</td>\n      <td>108</td>\n      <td>1</td>\n      <td>1.5</td>\n      <td>2</td>\n      <td>3.0</td>\n      <td>0.0</td>\n      <td>1</td>\n    </tr>\n    <tr>\n      <th>2</th>\n      <td>67</td>\n      <td>1</td>\n      <td>0</td>\n      <td>120</td>\n      <td>229</td>\n      <td>0</td>\n      <td>2</td>\n      <td>129</td>\n      <td>1</td>\n      <td>2.6</td>\n      <td>2</td>\n      <td>2.0</td>\n      <td>2.0</td>\n      <td>1</td>\n    </tr>\n    <tr>\n      <th>3</th>\n      <td>37</td>\n      <td>1</td>\n      <td>1</td>\n      <td>130</td>\n      <td>250</td>\n      <td>0</td>\n      <td>0</td>\n      <td>187</td>\n      <td>0</td>\n      <td>3.5</td>\n      <td>3</td>\n      <td>0.0</td>\n      <td>0.0</td>\n      <td>0</td>\n    </tr>\n    <tr>\n      <th>4</th>\n      <td>41</td>\n      <td>0</td>\n      <td>2</td>\n      <td>130</td>\n      <td>204</td>\n      <td>0</td>\n      <td>2</td>\n      <td>172</td>\n      <td>0</td>\n      <td>1.4</td>\n      <td>1</td>\n      <td>0.0</td>\n      <td>0.0</td>\n      <td>0</td>\n    </tr>\n    <tr>\n      <th>...</th>\n      <td>...</td>\n      <td>...</td>\n      <td>...</td>\n      <td>...</td>\n      <td>...</td>\n      <td>...</td>\n      <td>...</td>\n      <td>...</td>\n      <td>...</td>\n      <td>...</td>\n      <td>...</td>\n      <td>...</td>\n      <td>...</td>\n      <td>...</td>\n    </tr>\n    <tr>\n      <th>297</th>\n      <td>57</td>\n      <td>0</td>\n      <td>0</td>\n      <td>140</td>\n      <td>241</td>\n      <td>0</td>\n      <td>0</td>\n      <td>123</td>\n      <td>1</td>\n      <td>0.2</td>\n      <td>2</td>\n      <td>0.0</td>\n      <td>2.0</td>\n      <td>1</td>\n    </tr>\n    <tr>\n      <th>298</th>\n      <td>45</td>\n      <td>1</td>\n      <td>3</td>\n      <td>110</td>\n      <td>264</td>\n      <td>0</td>\n      <td>0</td>\n      <td>132</td>\n      <td>0</td>\n      <td>1.2</td>\n      <td>2</td>\n      <td>0.0</td>\n      <td>2.0</td>\n      <td>1</td>\n    </tr>\n    <tr>\n      <th>299</th>\n      <td>68</td>\n      <td>1</td>\n      <td>0</td>\n      <td>144</td>\n      <td>193</td>\n      <td>1</td>\n      <td>0</td>\n      <td>141</td>\n      <td>0</td>\n      <td>3.4</td>\n      <td>2</td>\n      <td>2.0</td>\n      <td>2.0</td>\n      <td>1</td>\n    </tr>\n    <tr>\n      <th>300</th>\n      <td>57</td>\n      <td>1</td>\n      <td>0</td>\n      <td>130</td>\n      <td>131</td>\n      <td>0</td>\n      <td>0</td>\n      <td>115</td>\n      <td>1</td>\n      <td>1.2</td>\n      <td>2</td>\n      <td>1.0</td>\n      <td>2.0</td>\n      <td>1</td>\n    </tr>\n    <tr>\n      <th>301</th>\n      <td>57</td>\n      <td>0</td>\n      <td>2</td>\n      <td>130</td>\n      <td>236</td>\n      <td>0</td>\n      <td>2</td>\n      <td>174</td>\n      <td>0</td>\n      <td>0.0</td>\n      <td>2</td>\n      <td>1.0</td>\n      <td>0.0</td>\n      <td>1</td>\n    </tr>\n  </tbody>\n</table>\n<p>297 rows × 14 columns</p>\n</div>"
     },
     "execution_count": 2,
     "metadata": {},
     "output_type": "execute_result"
    }
   ],
   "source": [
    "df = pd.read_csv('Heart.csv')\n",
    "df['AHD'].replace({'Yes':1, 'No':0}, inplace=True)\n",
    "df['ChestPain'].replace({'asymptomatic':0, 'nonanginal':1, 'nontypical':2, 'typical':3}, inplace=True)\n",
    "df['Thal'].replace({'normal':0, 'fixed':1, 'reversable':2}, inplace=True)\n",
    "df = df.drop(index=[87, 166, 192, 266, 287, 302])\n",
    "df = df.drop(columns='Unnamed: 0')\n",
    "df"
   ],
   "metadata": {
    "collapsed": false,
    "ExecuteTime": {
     "start_time": "2023-03-31T18:34:42.154008Z",
     "end_time": "2023-03-31T18:34:42.171474Z"
    }
   }
  },
  {
   "cell_type": "code",
   "execution_count": 3,
   "outputs": [],
   "source": [
    "#88, 167, 193, 267, 288, 303 rows dropped"
   ],
   "metadata": {
    "collapsed": false,
    "ExecuteTime": {
     "start_time": "2023-03-31T18:34:42.171717Z",
     "end_time": "2023-03-31T18:34:42.178321Z"
    }
   }
  },
  {
   "cell_type": "code",
   "execution_count": 4,
   "outputs": [],
   "source": [
    "data_x = df.drop(columns='AHD').to_numpy()\n",
    "data_y = df['AHD'].to_numpy()"
   ],
   "metadata": {
    "collapsed": false,
    "ExecuteTime": {
     "start_time": "2023-03-31T18:34:42.176693Z",
     "end_time": "2023-03-31T18:34:42.178610Z"
    }
   }
  },
  {
   "cell_type": "code",
   "execution_count": 5,
   "outputs": [
    {
     "data": {
      "text/plain": "array([[63.,  1.,  3., ...,  3.,  0.,  1.],\n       [67.,  1.,  0., ...,  2.,  3.,  0.],\n       [67.,  1.,  0., ...,  2.,  2.,  2.],\n       ...,\n       [68.,  1.,  0., ...,  2.,  2.,  2.],\n       [57.,  1.,  0., ...,  2.,  1.,  2.],\n       [57.,  0.,  2., ...,  2.,  1.,  0.]])"
     },
     "execution_count": 5,
     "metadata": {},
     "output_type": "execute_result"
    }
   ],
   "source": [
    "data_x"
   ],
   "metadata": {
    "collapsed": false,
    "ExecuteTime": {
     "start_time": "2023-03-31T18:34:42.180865Z",
     "end_time": "2023-03-31T18:34:42.239894Z"
    }
   }
  },
  {
   "cell_type": "code",
   "execution_count": 6,
   "outputs": [
    {
     "data": {
      "text/plain": "array([0, 1, 1, 0, 0, 0, 1, 0, 1, 1, 0, 0, 1, 0, 0, 0, 1, 0, 0, 0, 0, 0,\n       1, 1, 1, 0, 0, 0, 0, 1, 0, 1, 1, 0, 0, 0, 1, 1, 1, 0, 1, 0, 0, 0,\n       1, 1, 0, 1, 0, 0, 0, 0, 1, 0, 1, 1, 1, 1, 0, 0, 1, 0, 1, 0, 1, 1,\n       1, 0, 1, 1, 0, 1, 1, 1, 1, 0, 1, 0, 0, 1, 0, 0, 0, 1, 0, 0, 0, 0,\n       0, 0, 1, 0, 0, 0, 1, 1, 1, 0, 0, 0, 0, 0, 0, 1, 0, 1, 1, 1, 1, 1,\n       1, 0, 1, 1, 0, 0, 0, 1, 1, 1, 1, 0, 1, 1, 0, 1, 1, 0, 0, 0, 0, 0,\n       0, 0, 0, 1, 1, 1, 0, 0, 1, 0, 1, 0, 1, 1, 0, 0, 0, 0, 0, 0, 1, 1,\n       1, 1, 1, 1, 0, 0, 1, 0, 0, 0, 0, 0, 1, 0, 1, 0, 1, 0, 1, 1, 0, 1,\n       0, 0, 1, 1, 0, 0, 1, 0, 0, 1, 1, 1, 0, 1, 1, 0, 1, 0, 0, 0, 1, 0,\n       0, 0, 0, 0, 1, 1, 1, 0, 1, 0, 1, 0, 1, 1, 0, 0, 0, 0, 0, 0, 0, 0,\n       1, 1, 0, 0, 0, 1, 1, 0, 1, 1, 0, 0, 1, 1, 1, 0, 0, 0, 0, 0, 1, 0,\n       1, 1, 1, 1, 0, 0, 1, 0, 0, 0, 0, 0, 0, 0, 1, 0, 1, 0, 0, 1, 1, 1,\n       1, 0, 1, 0, 1, 0, 1, 0, 0, 0, 1, 0, 1, 0, 1, 0, 1, 1, 1, 0, 0, 1,\n       0, 1, 1, 1, 0, 1, 1, 1, 1, 1, 1])"
     },
     "execution_count": 6,
     "metadata": {},
     "output_type": "execute_result"
    }
   ],
   "source": [
    "data_y"
   ],
   "metadata": {
    "collapsed": false,
    "ExecuteTime": {
     "start_time": "2023-03-31T18:34:42.222343Z",
     "end_time": "2023-03-31T18:34:42.240109Z"
    }
   }
  },
  {
   "cell_type": "code",
   "execution_count": 7,
   "outputs": [],
   "source": [
    "from sklearn.model_selection import train_test_split\n",
    "\n",
    "x_train, x_test, y_train, y_test = train_test_split(data_x, data_y, test_size=0.3, random_state=25)"
   ],
   "metadata": {
    "collapsed": false,
    "ExecuteTime": {
     "start_time": "2023-03-31T18:34:42.222388Z",
     "end_time": "2023-03-31T18:34:42.519210Z"
    }
   }
  },
  {
   "cell_type": "code",
   "execution_count": 8,
   "outputs": [],
   "source": [
    "clusters = {0:[], 1:[]}\n",
    "c0 = []\n",
    "c1 = []\n",
    "for i in range(len(x_train)):\n",
    "    if y_train[i] == 0:\n",
    "        clusters[0].append(i)\n",
    "        c0.append(x_train[i])\n",
    "    else:\n",
    "        clusters[1].append([i])\n",
    "        c1.append(x_train[i])\n",
    "\n",
    "c0 = np.array(c0)\n",
    "c1 = np.array(c1)"
   ],
   "metadata": {
    "collapsed": false,
    "ExecuteTime": {
     "start_time": "2023-03-31T18:34:42.522332Z",
     "end_time": "2023-03-31T18:34:42.567508Z"
    }
   }
  },
  {
   "cell_type": "code",
   "execution_count": 9,
   "outputs": [
    {
     "data": {
      "text/plain": "array([[58.,  0.,  1., ...,  1.,  0.,  0.],\n       [51.,  0.,  1., ...,  1.,  1.,  0.],\n       [55.,  0.,  2., ...,  2.,  0.,  0.],\n       ...,\n       [70.,  1.,  2., ...,  1.,  0.,  0.],\n       [58.,  1.,  1., ...,  2.,  0.,  2.],\n       [51.,  1.,  0., ...,  1.,  0.,  0.]])"
     },
     "execution_count": 9,
     "metadata": {},
     "output_type": "execute_result"
    }
   ],
   "source": [
    "c0"
   ],
   "metadata": {
    "collapsed": false,
    "ExecuteTime": {
     "start_time": "2023-03-31T18:34:42.567128Z",
     "end_time": "2023-03-31T18:34:42.568060Z"
    }
   }
  },
  {
   "cell_type": "code",
   "execution_count": 10,
   "outputs": [
    {
     "data": {
      "text/plain": "(94, 13)"
     },
     "execution_count": 10,
     "metadata": {},
     "output_type": "execute_result"
    }
   ],
   "source": [
    "c1.shape"
   ],
   "metadata": {
    "collapsed": false,
    "ExecuteTime": {
     "start_time": "2023-03-31T18:34:42.567207Z",
     "end_time": "2023-03-31T18:34:42.568171Z"
    }
   }
  },
  {
   "cell_type": "code",
   "execution_count": 11,
   "outputs": [
    {
     "data": {
      "text/plain": "array([5.23185841e+01, 5.66371681e-01, 1.12389381e+00, 1.29557522e+02,\n       2.44247788e+02, 1.32743363e-01, 8.58407080e-01, 1.60256637e+02,\n       1.76991150e-01, 6.04424779e-01, 1.38938053e+00, 2.74336283e-01,\n       3.36283186e-01])"
     },
     "execution_count": 11,
     "metadata": {},
     "output_type": "execute_result"
    }
   ],
   "source": [
    "m0 = np.mean(c0, axis=0)\n",
    "m0"
   ],
   "metadata": {
    "collapsed": false,
    "ExecuteTime": {
     "start_time": "2023-03-31T18:34:42.567295Z",
     "end_time": "2023-03-31T18:34:42.568282Z"
    }
   }
  },
  {
   "cell_type": "code",
   "execution_count": 12,
   "outputs": [
    {
     "data": {
      "text/plain": "array([[ 1.01604464e+04, -1.06330357e+02, -1.05535714e+01,\n         4.53001786e+03,  1.30142500e+04,  2.54464286e+01,\n         1.42357143e+02, -1.16715268e+04,  2.58571429e+01,\n         7.89392857e+01,  4.94196429e+01,  1.14133929e+02,\n         8.16160714e+01],\n       [-1.06330357e+02,  2.80000000e+01, -9.37500000e-01,\n        -1.69642857e+00, -6.62723214e+02,  2.52678571e+00,\n         3.08928571e+00,  2.00348214e+02,  6.78571429e-01,\n         3.44732143e+00, -1.93750000e+00, -3.58928571e+00,\n         1.46071429e+01],\n       [-1.05535714e+01, -9.37500000e-01,  9.10714286e+01,\n         1.72723214e+02, -4.58526786e+02,  2.16071429e+00,\n         6.03571429e+00,  5.59017857e+01, -1.49107143e+00,\n         1.24482143e+01,  1.56250000e+00,  1.60714286e-01,\n        -2.73214286e+00],\n       [ 4.53001786e+03, -1.69642857e+00,  1.72723214e+02,\n         2.97935357e+04,  6.59676786e+03,  4.90714286e+01,\n         1.84553571e+02, -6.17633929e+02, -1.12500000e+01,\n         3.49615179e+02,  2.97321429e+01, -5.88035714e+01,\n        -2.94464286e+01],\n       [ 1.30142500e+04, -6.62723214e+02, -4.58526786e+02,\n         6.59676786e+03,  3.25295786e+05, -1.29866071e+02,\n         9.95776786e+02,  6.56894643e+03,  1.05357143e+00,\n         2.72689286e+02, -1.07857143e+02,  3.35285714e+02,\n         5.89285714e-01],\n       [ 2.54464286e+01,  2.52678571e+00,  2.16071429e+00,\n         4.90714286e+01, -1.29866071e+02,  1.31250000e+01,\n         1.13392857e+00, -2.20446429e+01, -6.60714286e-01,\n        -2.08482143e+00,  1.60714286e-01,  4.92857143e+00,\n         9.64285714e-01],\n       [ 1.42357143e+02,  3.08928571e+00,  6.03571429e+00,\n         1.84553571e+02,  9.95776786e+02,  1.13392857e+00,\n         1.10714286e+02, -6.14375000e+01,  4.87500000e+00,\n         1.17750000e+01,  7.29464286e+00, -4.65178571e+00,\n        -2.64285714e+00],\n       [-1.16715268e+04,  2.00348214e+02,  5.59017857e+01,\n        -6.17633929e+02,  6.56894643e+03, -2.20446429e+01,\n        -6.14375000e+01,  4.10730357e+04, -1.31294643e+02,\n        -3.37111607e+02, -2.76741071e+02, -1.74500000e+02,\n        -1.26875000e+02],\n       [ 2.58571429e+01,  6.78571429e-01, -1.49107143e+00,\n        -1.12500000e+01,  1.05357143e+00, -6.60714286e-01,\n         4.87500000e+00, -1.31294643e+02,  1.66071429e+01,\n         1.12500000e-01,  1.22321429e+00, -4.91071429e-01,\n         3.30357143e+00],\n       [ 7.89392857e+01,  3.44732143e+00,  1.24482143e+01,\n         3.49615179e+02,  2.72689286e+02, -2.08482143e+00,\n         1.17750000e+01, -3.37111607e+02,  1.12500000e-01,\n         8.03387500e+01,  2.84571429e+01, -5.99017857e+00,\n         8.20446429e+00],\n       [ 4.94196429e+01, -1.93750000e+00,  1.56250000e+00,\n         2.97321429e+01, -1.07857143e+02,  1.60714286e-01,\n         7.29464286e+00, -2.76741071e+02,  1.22321429e+00,\n         2.84571429e+01,  4.12321429e+01, -7.13392857e+00,\n         6.25892857e+00],\n       [ 1.14133929e+02, -3.58928571e+00,  1.60714286e-01,\n        -5.88035714e+01,  3.35285714e+02,  4.92857143e+00,\n        -4.65178571e+00, -1.74500000e+02, -4.91071429e-01,\n        -5.99017857e+00, -7.13392857e+00,  4.69107143e+01,\n        -4.28571429e-01],\n       [ 8.16160714e+01,  1.46071429e+01, -2.73214286e+00,\n        -2.94464286e+01,  5.89285714e-01,  9.64285714e-01,\n        -2.64285714e+00, -1.26875000e+02,  3.30357143e+00,\n         8.20446429e+00,  6.25892857e+00, -4.28571429e-01,\n         6.17678571e+01]])"
     },
     "execution_count": 12,
     "metadata": {},
     "output_type": "execute_result"
    }
   ],
   "source": [
    "s0 = np.zeros((13,13))\n",
    "for i in range(len(c0)):\n",
    "    s0 += np.matmul((c0-m0).T, (c0-m0))\n",
    "s0 = s0/(len(c0)-1)\n",
    "s0"
   ],
   "metadata": {
    "collapsed": false,
    "ExecuteTime": {
     "start_time": "2023-03-31T18:34:42.567358Z",
     "end_time": "2023-03-31T18:34:42.568473Z"
    }
   }
  },
  {
   "cell_type": "code",
   "execution_count": 13,
   "outputs": [
    {
     "data": {
      "text/plain": "array([5.60319149e+01, 8.40425532e-01, 3.72340426e-01, 1.32340426e+02,\n       2.48861702e+02, 1.48936170e-01, 1.21276596e+00, 1.37446809e+02,\n       5.31914894e-01, 1.40531915e+00, 1.80851064e+00, 1.07446809e+00,\n       1.39361702e+00])"
     },
     "execution_count": 13,
     "metadata": {},
     "output_type": "execute_result"
    }
   ],
   "source": [
    "m1 = np.mean(c1, axis=0)\n",
    "m1"
   ],
   "metadata": {
    "collapsed": false,
    "ExecuteTime": {
     "start_time": "2023-03-31T18:34:42.567779Z",
     "end_time": "2023-03-31T18:34:42.568578Z"
    }
   }
  },
  {
   "cell_type": "code",
   "execution_count": 14,
   "outputs": [
    {
     "data": {
      "text/plain": "(13, 13)"
     },
     "execution_count": 14,
     "metadata": {},
     "output_type": "execute_result"
    }
   ],
   "source": [
    "s1 = np.zeros((13,13))\n",
    "for i in range(len(c1)):\n",
    "    s1 += np.matmul((c1-m1).T, (c1-m1))\n",
    "s1 = s1/(len(c1)-1)\n",
    "s1.shape"
   ],
   "metadata": {
    "collapsed": false,
    "ExecuteTime": {
     "start_time": "2023-03-31T18:34:42.567822Z",
     "end_time": "2023-03-31T18:34:42.568665Z"
    }
   }
  },
  {
   "cell_type": "code",
   "execution_count": 15,
   "outputs": [
    {
     "data": {
      "text/plain": "array([[ 8.05816968e-07,  1.18995021e-06, -3.44029600e-07,\n        -1.05004417e-07, -1.91114306e-08,  1.13506902e-07,\n        -5.52263602e-07,  1.40219481e-07,  1.19361185e-06,\n         5.97240496e-07, -2.94531727e-07, -1.62615034e-06,\n        -1.63967058e-07],\n       [ 1.18995021e-06,  2.78404642e-04, -3.57608568e-06,\n         6.94906204e-07,  4.94964282e-07, -2.28132685e-05,\n        -1.02029775e-05, -3.20525573e-07,  5.05843349e-07,\n        -6.19384788e-06,  2.96367166e-05,  7.59266213e-06,\n        -4.77037575e-05],\n       [-3.44029600e-07, -3.57608568e-06,  6.78015901e-05,\n        -2.03310507e-07,  5.91116618e-08, -1.16598256e-06,\n        -6.26628699e-07, -2.94378516e-07,  2.70701053e-05,\n        -2.35185215e-06, -2.28310294e-06,  3.17505818e-06,\n         7.40609304e-06],\n       [-1.05004417e-07,  6.94906204e-07, -2.03310507e-07,\n         1.98494762e-07, -2.70052172e-09, -1.54402196e-06,\n        -1.67849138e-07, -2.31762333e-08, -1.83093680e-07,\n        -9.09950816e-07,  3.70168574e-07,  4.64133226e-07,\n        -1.68933640e-07],\n       [-1.91114306e-08,  4.94964282e-07,  5.91116618e-08,\n        -2.70052172e-09,  1.93118096e-08,  7.37313269e-08,\n        -1.27370481e-07, -8.85005148e-09, -1.71298893e-07,\n         1.55445116e-08,  7.10394848e-08, -1.11863491e-08,\n        -8.46854611e-08],\n       [ 1.13506902e-07, -2.28132685e-05, -1.16598256e-06,\n        -1.54402196e-06,  7.37313269e-08,  4.13701053e-04,\n        -6.27711236e-06,  2.61199106e-07,  1.30055596e-05,\n         1.67635166e-05, -3.04569839e-05, -3.49772824e-05,\n         1.82090507e-06],\n       [-5.52263602e-07, -1.02029775e-05, -6.26628699e-07,\n        -1.67849138e-07, -1.27370481e-07, -6.27711236e-06,\n         5.16086496e-05, -2.86820649e-07, -1.49776644e-05,\n        -2.08547705e-06, -6.98035247e-06,  3.02844162e-07,\n         5.79011699e-06],\n       [ 1.40219481e-07, -3.20525573e-07, -2.94378516e-07,\n        -2.31762333e-08, -8.85005148e-09,  2.61199106e-07,\n        -2.86820649e-07,  1.61605289e-07,  1.55857603e-06,\n         4.64994572e-07,  8.32630093e-07, -5.70729708e-08,\n        -8.85246882e-08],\n       [ 1.19361185e-06,  5.05843349e-07,  2.70701053e-05,\n        -1.83093680e-07, -1.71298893e-07,  1.30055596e-05,\n        -1.49776644e-05,  1.55857603e-06,  2.85859043e-04,\n        -7.46278150e-06, -3.43334549e-06,  8.51617843e-06,\n        -1.09763755e-05],\n       [ 5.97240496e-07, -6.19384788e-06, -2.35185215e-06,\n        -9.09950816e-07,  1.55445116e-08,  1.67635166e-05,\n        -2.08547705e-06,  4.64994572e-07, -7.46278150e-06,\n         7.16667601e-05, -5.92500651e-05, -1.40008736e-05,\n        -8.25659958e-06],\n       [-2.94531727e-07,  2.96367166e-05, -2.28310294e-06,\n         3.70168574e-07,  7.10394848e-08, -3.04569839e-05,\n        -6.98035247e-06,  8.32630093e-07, -3.43334549e-06,\n        -5.92500651e-05,  2.08892336e-04,  2.60173036e-05,\n        -1.51704173e-05],\n       [-1.62615034e-06,  7.59266213e-06,  3.17505818e-06,\n         4.64133226e-07, -1.11863491e-08, -3.49772824e-05,\n         3.02844162e-07, -5.70729708e-08,  8.51617843e-06,\n        -1.40008736e-05,  2.60173036e-05,  8.20908353e-05,\n        -7.83652898e-07],\n       [-1.63967058e-07, -4.77037575e-05,  7.40609304e-06,\n        -1.68933640e-07, -8.46854611e-08,  1.82090507e-06,\n         5.79011699e-06, -8.85246882e-08, -1.09763755e-05,\n        -8.25659958e-06, -1.51704173e-05, -7.83652898e-07,\n         8.44679690e-05]])"
     },
     "execution_count": 15,
     "metadata": {},
     "output_type": "execute_result"
    }
   ],
   "source": [
    "n0 = len(c0)\n",
    "n1 = len(c1)\n",
    "inverse_s = np.linalg.inv(n0*s0 + n1*s1)\n",
    "inverse_s"
   ],
   "metadata": {
    "collapsed": false,
    "ExecuteTime": {
     "start_time": "2023-03-31T18:34:42.612322Z",
     "end_time": "2023-03-31T18:34:42.652628Z"
    }
   }
  },
  {
   "cell_type": "code",
   "execution_count": 27,
   "outputs": [
    {
     "name": "stdout",
     "output_type": "stream",
     "text": [
      "[ 8.91689371e-07 -5.42248404e-05  2.98948172e-05 -4.91559599e-07\n",
      " -1.42704093e-07  3.11790095e-05 -1.57504771e-05  2.09954476e-06\n",
      " -3.15292758e-05  1.26396967e-06 -3.18017904e-05 -6.33078368e-05\n",
      " -5.58083008e-05]\n"
     ]
    }
   ],
   "source": [
    "omega = np.matmul(inverse_s, (m0-m1))\n",
    "print(omega)"
   ],
   "metadata": {
    "collapsed": false,
    "ExecuteTime": {
     "start_time": "2023-03-31T19:42:31.137594Z",
     "end_time": "2023-03-31T19:42:31.140504Z"
    }
   }
  },
  {
   "cell_type": "code",
   "execution_count": 17,
   "outputs": [
    {
     "name": "stdout",
     "output_type": "stream",
     "text": [
      "(207,)\n"
     ]
    }
   ],
   "source": [
    "projected_train_data = np.matmul(omega, x_train.T)\n",
    "print(projected_train_data.shape)"
   ],
   "metadata": {
    "collapsed": false,
    "ExecuteTime": {
     "start_time": "2023-03-31T18:34:42.612422Z",
     "end_time": "2023-03-31T18:34:42.653014Z"
    }
   }
  },
  {
   "cell_type": "code",
   "execution_count": 18,
   "outputs": [],
   "source": [
    "def sigmoid(z):\n",
    "    return 1 / (1 + np.exp(-z))"
   ],
   "metadata": {
    "collapsed": false,
    "ExecuteTime": {
     "start_time": "2023-03-31T18:34:42.612452Z",
     "end_time": "2023-03-31T18:34:42.653066Z"
    }
   }
  },
  {
   "cell_type": "code",
   "execution_count": 19,
   "outputs": [
    {
     "name": "stdout",
     "output_type": "stream",
     "text": [
      "[[0.]\n",
      " [0.]]\n"
     ]
    }
   ],
   "source": [
    "theta = np.zeros(2)\n",
    "theta = theta.reshape(-1,1)\n",
    "print(theta)"
   ],
   "metadata": {
    "collapsed": false,
    "ExecuteTime": {
     "start_time": "2023-03-31T18:34:42.612507Z",
     "end_time": "2023-03-31T18:34:42.653168Z"
    }
   }
  },
  {
   "cell_type": "code",
   "execution_count": 20,
   "outputs": [
    {
     "name": "stdout",
     "output_type": "stream",
     "text": [
      "207\n",
      "[[1]\n",
      " [0]\n",
      " [0]\n",
      " [1]\n",
      " [0]\n",
      " [0]\n",
      " [0]\n",
      " [0]\n",
      " [1]\n",
      " [0]\n",
      " [1]\n",
      " [1]\n",
      " [0]\n",
      " [1]\n",
      " [1]\n",
      " [0]\n",
      " [1]\n",
      " [1]\n",
      " [1]\n",
      " [1]\n",
      " [0]\n",
      " [0]\n",
      " [0]\n",
      " [0]\n",
      " [0]\n",
      " [0]\n",
      " [0]\n",
      " [1]\n",
      " [1]\n",
      " [0]\n",
      " [1]\n",
      " [1]\n",
      " [1]\n",
      " [0]\n",
      " [1]\n",
      " [0]\n",
      " [1]\n",
      " [0]\n",
      " [0]\n",
      " [0]\n",
      " [0]\n",
      " [0]\n",
      " [0]\n",
      " [0]\n",
      " [0]\n",
      " [0]\n",
      " [0]\n",
      " [0]\n",
      " [0]\n",
      " [0]\n",
      " [0]\n",
      " [0]\n",
      " [0]\n",
      " [1]\n",
      " [1]\n",
      " [0]\n",
      " [1]\n",
      " [0]\n",
      " [1]\n",
      " [1]\n",
      " [0]\n",
      " [0]\n",
      " [1]\n",
      " [0]\n",
      " [1]\n",
      " [1]\n",
      " [1]\n",
      " [1]\n",
      " [0]\n",
      " [0]\n",
      " [1]\n",
      " [1]\n",
      " [0]\n",
      " [1]\n",
      " [0]\n",
      " [1]\n",
      " [0]\n",
      " [0]\n",
      " [1]\n",
      " [1]\n",
      " [0]\n",
      " [1]\n",
      " [0]\n",
      " [0]\n",
      " [0]\n",
      " [1]\n",
      " [1]\n",
      " [1]\n",
      " [1]\n",
      " [1]\n",
      " [1]\n",
      " [0]\n",
      " [1]\n",
      " [1]\n",
      " [0]\n",
      " [0]\n",
      " [1]\n",
      " [0]\n",
      " [1]\n",
      " [1]\n",
      " [0]\n",
      " [1]\n",
      " [1]\n",
      " [1]\n",
      " [0]\n",
      " [0]\n",
      " [0]\n",
      " [1]\n",
      " [0]\n",
      " [1]\n",
      " [1]\n",
      " [1]\n",
      " [0]\n",
      " [0]\n",
      " [1]\n",
      " [0]\n",
      " [0]\n",
      " [0]\n",
      " [0]\n",
      " [0]\n",
      " [0]\n",
      " [1]\n",
      " [0]\n",
      " [0]\n",
      " [0]\n",
      " [0]\n",
      " [1]\n",
      " [1]\n",
      " [1]\n",
      " [1]\n",
      " [0]\n",
      " [1]\n",
      " [1]\n",
      " [1]\n",
      " [0]\n",
      " [1]\n",
      " [1]\n",
      " [0]\n",
      " [0]\n",
      " [1]\n",
      " [0]\n",
      " [0]\n",
      " [0]\n",
      " [1]\n",
      " [1]\n",
      " [0]\n",
      " [0]\n",
      " [0]\n",
      " [1]\n",
      " [0]\n",
      " [1]\n",
      " [0]\n",
      " [0]\n",
      " [0]\n",
      " [1]\n",
      " [1]\n",
      " [1]\n",
      " [0]\n",
      " [0]\n",
      " [0]\n",
      " [0]\n",
      " [0]\n",
      " [1]\n",
      " [0]\n",
      " [1]\n",
      " [1]\n",
      " [1]\n",
      " [0]\n",
      " [1]\n",
      " [0]\n",
      " [1]\n",
      " [1]\n",
      " [1]\n",
      " [1]\n",
      " [0]\n",
      " [0]\n",
      " [1]\n",
      " [1]\n",
      " [0]\n",
      " [0]\n",
      " [0]\n",
      " [1]\n",
      " [1]\n",
      " [0]\n",
      " [1]\n",
      " [1]\n",
      " [1]\n",
      " [0]\n",
      " [1]\n",
      " [1]\n",
      " [0]\n",
      " [1]\n",
      " [0]\n",
      " [0]\n",
      " [0]\n",
      " [0]\n",
      " [0]\n",
      " [0]\n",
      " [0]\n",
      " [1]\n",
      " [1]\n",
      " [1]\n",
      " [0]\n",
      " [0]\n",
      " [0]\n",
      " [0]\n",
      " [0]]\n"
     ]
    }
   ],
   "source": [
    "xes = []\n",
    "for i in projected_train_data:\n",
    "    # print(i)\n",
    "    xes.append([1.0,i])\n",
    "xes = np.array(xes)\n",
    "print(len(xes))\n",
    "\n",
    "yes = np.array(y_train).reshape(-1,1)\n",
    "print(yes)"
   ],
   "metadata": {
    "collapsed": false,
    "ExecuteTime": {
     "start_time": "2023-03-31T18:34:42.612536Z",
     "end_time": "2023-03-31T18:34:42.653293Z"
    }
   }
  },
  {
   "cell_type": "code",
   "execution_count": 21,
   "outputs": [
    {
     "name": "stdout",
     "output_type": "stream",
     "text": [
      "[[0.]\n",
      " [0.]]\n",
      "[[-0.1838396 ]\n",
      " [-2.75348089]]\n",
      "[[-0.1838396 ]\n",
      " [-2.75348089]]\n"
     ]
    }
   ],
   "source": [
    "number_of_iterations = 500000\n",
    "learning_rate = 0.1\n",
    "print(theta)\n",
    "# theta[0][0] = -1.11\n",
    "# theta[1][0] = -103.8\n",
    "# while True:\n",
    "for i in range(number_of_iterations):\n",
    "    # p = sigmoid(np.dot(xes, theta))\n",
    "    # otheta = theta\n",
    "    d = np.matmul((sigmoid(np.dot(xes, theta)) - yes).T, xes)\n",
    "    theta = theta - (learning_rate/len(xes))*(d.T)#np.dot(xes.T, (sigmoid(np.dot(xes, theta)) - yes))#np.dot(xes.T,p-yes)\n",
    "    # if otheta[0]-theta[0] < 0.000001:\n",
    "    #     break\n",
    "# print(p)\n",
    "print(theta)\n",
    "# theta[0][0] = -1.11\n",
    "# theta[1][0] = -103.8\n",
    "print(theta)\n"
   ],
   "metadata": {
    "collapsed": false,
    "ExecuteTime": {
     "start_time": "2023-03-31T18:34:42.612568Z",
     "end_time": "2023-03-31T18:34:47.965107Z"
    }
   }
  },
  {
   "cell_type": "code",
   "execution_count": 22,
   "outputs": [
    {
     "name": "stdout",
     "output_type": "stream",
     "text": [
      "[ 2.41370280e-04 -2.39050129e-04  2.76139361e-04 -9.65467920e-05\n",
      " -2.37455053e-05 -9.87200906e-05  2.51826636e-04  2.82923463e-04\n",
      "  2.26422063e-05 -2.23636729e-06 -1.03390607e-04  1.94736807e-04\n",
      " -1.10191474e-04  1.22708434e-04 -8.15359726e-05  1.84111879e-04\n",
      " -1.38257747e-04  3.02923028e-04 -7.13064586e-05  2.18655971e-04\n",
      "  1.87854226e-04  1.00050272e-04  1.90671801e-05 -2.03915126e-04\n",
      "  9.49238473e-06 -1.19226391e-04 -8.24170454e-05  2.75374282e-04\n",
      "  2.75694330e-04  2.83818916e-04 -1.12514845e-04  1.69601881e-04\n",
      "  2.29837259e-04  5.29666617e-05  1.95009753e-04  2.98339611e-04\n",
      " -3.73269690e-06  3.51771536e-05  1.78825869e-04  2.12571307e-04\n",
      " -1.61314479e-04  1.51318862e-04  1.11501872e-04 -1.22247688e-04\n",
      "  1.29475304e-04  3.49401861e-04  2.50359611e-05  1.57562783e-04\n",
      "  1.68069550e-04  1.32877282e-04  1.11293597e-04  1.95779138e-04\n",
      "  1.04522608e-04  1.03253266e-06  1.76697596e-04  1.59568892e-04\n",
      " -2.01855092e-04  2.60945316e-04  9.60354531e-05 -1.26361369e-04\n",
      "  7.00603771e-05  2.41403984e-04  9.01353640e-05  1.71897694e-04\n",
      " -1.78715920e-04 -1.43896951e-04  2.55320540e-04  3.09513231e-05\n",
      " -1.54804190e-04  2.93438120e-05  1.46928674e-04  2.63582654e-04\n",
      "  2.45281133e-04  6.17861077e-06 -4.96097800e-05  2.50255349e-04\n",
      "  1.09552067e-04 -1.56799105e-05 -1.70669629e-04 -1.94821578e-04\n",
      "  2.09175336e-04  1.40642609e-04  2.32566949e-04  2.07034159e-04\n",
      "  1.53413074e-04  2.25198625e-04  2.39297260e-04  2.26719866e-04\n",
      "  5.03407872e-05  3.11047720e-04]\n"
     ]
    }
   ],
   "source": [
    "# [[-0.18398268]\n",
    " # [-1.66875326]]\n",
    "projected_test_data = np.matmul(omega, x_test.T)\n",
    "# print(y_test.reshape(-1,1))\n",
    "# print(y_test)\n",
    "print(projected_test_data)"
   ],
   "metadata": {
    "collapsed": false,
    "ExecuteTime": {
     "start_time": "2023-03-31T18:34:47.966091Z",
     "end_time": "2023-03-31T18:34:47.968683Z"
    }
   }
  },
  {
   "cell_type": "code",
   "execution_count": 23,
   "outputs": [
    {
     "name": "stdout",
     "output_type": "stream",
     "text": [
      "(90, 2)\n"
     ]
    }
   ],
   "source": [
    "xes_test = []\n",
    "for i in projected_test_data:\n",
    "    # print(i)\n",
    "    xes_test.append([1.0,i])\n",
    "xes_test = np.array(xes_test)\n",
    "print(xes_test.shape)\n",
    "\n",
    "# yes_test = np.array(y_t).reshape(-1,1)\n",
    "# print(yes_test)"
   ],
   "metadata": {
    "collapsed": false,
    "ExecuteTime": {
     "start_time": "2023-03-31T18:34:47.969463Z",
     "end_time": "2023-03-31T18:34:47.971845Z"
    }
   }
  },
  {
   "cell_type": "code",
   "execution_count": 24,
   "outputs": [
    {
     "name": "stdout",
     "output_type": "stream",
     "text": [
      "[[0.45400436]\n",
      " [0.45433228]\n",
      " [0.45398062]\n",
      " [0.45423501]\n",
      " [0.45418532]\n",
      " [0.45423649]\n",
      " [0.45399722]\n",
      " [0.45397599]\n",
      " [0.45415365]\n",
      " [0.45417063]\n",
      " [0.45423968]\n",
      " [0.45403619]\n",
      " [0.45424432]\n",
      " [0.45408535]\n",
      " [0.45422476]\n",
      " [0.45404344]\n",
      " [0.45426348]\n",
      " [0.45396234]\n",
      " [0.45421778]\n",
      " [0.45401986]\n",
      " [0.45404088]\n",
      " [0.45410081]\n",
      " [0.45415609]\n",
      " [0.4543083 ]\n",
      " [0.45416263]\n",
      " [0.45425049]\n",
      " [0.45422536]\n",
      " [0.45398115]\n",
      " [0.45398093]\n",
      " [0.45397538]\n",
      " [0.45424591]\n",
      " [0.45405334]\n",
      " [0.45401223]\n",
      " [0.45413295]\n",
      " [0.454036  ]\n",
      " [0.45396547]\n",
      " [0.45417165]\n",
      " [0.4541451 ]\n",
      " [0.45404705]\n",
      " [0.45402401]\n",
      " [0.45427922]\n",
      " [0.45406582]\n",
      " [0.454093  ]\n",
      " [0.45425255]\n",
      " [0.45408073]\n",
      " [0.45393062]\n",
      " [0.45415202]\n",
      " [0.45406156]\n",
      " [0.45405439]\n",
      " [0.45407841]\n",
      " [0.45409314]\n",
      " [0.45403547]\n",
      " [0.45409776]\n",
      " [0.4541684 ]\n",
      " [0.4540485 ]\n",
      " [0.45406019]\n",
      " [0.45430689]\n",
      " [0.453991  ]\n",
      " [0.45410356]\n",
      " [0.45425536]\n",
      " [0.45412129]\n",
      " [0.45400433]\n",
      " [0.45410758]\n",
      " [0.45405177]\n",
      " [0.4542911 ]\n",
      " [0.45426733]\n",
      " [0.45399483]\n",
      " [0.45414798]\n",
      " [0.45427478]\n",
      " [0.45414908]\n",
      " [0.45406882]\n",
      " [0.4539892 ]\n",
      " [0.45400169]\n",
      " [0.45416489]\n",
      " [0.45420297]\n",
      " [0.45399829]\n",
      " [0.45409433]\n",
      " [0.45417981]\n",
      " [0.45428561]\n",
      " [0.45430209]\n",
      " [0.45402633]\n",
      " [0.45407311]\n",
      " [0.45401036]\n",
      " [0.45402779]\n",
      " [0.45406439]\n",
      " [0.45401539]\n",
      " [0.45400577]\n",
      " [0.45401436]\n",
      " [0.45413475]\n",
      " [0.4539568 ]]\n"
     ]
    },
    {
     "data": {
      "text/plain": "90"
     },
     "execution_count": 24,
     "metadata": {},
     "output_type": "execute_result"
    }
   ],
   "source": [
    "y_pred = sigmoid(np.dot(xes_test, theta))\n",
    "print(y_pred)\n",
    "final_y = [1 if i >= 0.5 else 0 for i in y_pred]\n",
    "len(final_y)"
   ],
   "metadata": {
    "collapsed": false,
    "ExecuteTime": {
     "start_time": "2023-03-31T18:34:47.975577Z",
     "end_time": "2023-03-31T18:34:48.019426Z"
    }
   }
  },
  {
   "cell_type": "code",
   "execution_count": 25,
   "outputs": [
    {
     "name": "stdout",
     "output_type": "stream",
     "text": [
      "0.5222222222222223\n"
     ]
    }
   ],
   "source": [
    "from sklearn.metrics import accuracy_score\n",
    "print(accuracy_score(y_test, final_y))"
   ],
   "metadata": {
    "collapsed": false,
    "ExecuteTime": {
     "start_time": "2023-03-31T18:34:48.019090Z",
     "end_time": "2023-03-31T18:34:48.019599Z"
    }
   }
  },
  {
   "cell_type": "code",
   "execution_count": 25,
   "outputs": [],
   "source": [],
   "metadata": {
    "collapsed": false,
    "ExecuteTime": {
     "start_time": "2023-03-31T18:34:48.019134Z",
     "end_time": "2023-03-31T18:34:48.019661Z"
    }
   }
  }
 ],
 "metadata": {
  "kernelspec": {
   "display_name": "Python 3",
   "language": "python",
   "name": "python3"
  },
  "language_info": {
   "codemirror_mode": {
    "name": "ipython",
    "version": 2
   },
   "file_extension": ".py",
   "mimetype": "text/x-python",
   "name": "python",
   "nbconvert_exporter": "python",
   "pygments_lexer": "ipython2",
   "version": "2.7.6"
  }
 },
 "nbformat": 4,
 "nbformat_minor": 0
}
