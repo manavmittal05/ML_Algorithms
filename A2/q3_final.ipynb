{
 "cells": [
  {
   "cell_type": "code",
   "execution_count": 1,
   "metadata": {
    "collapsed": true,
    "id": "4sOyeHa3bmVF"
   },
   "outputs": [],
   "source": [
    "import math\n",
    "\n",
    "import numpy as np\n",
    "from PIL import Image"
   ]
  },
  {
   "cell_type": "code",
   "execution_count": 2,
   "outputs": [],
   "source": [
    "img = Image.open('./peppers.png')\n",
    "img_array = np.asarray(img)"
   ],
   "metadata": {
    "id": "nJWhJuJnbmVG"
   }
  },
  {
   "cell_type": "code",
   "execution_count": 3,
   "outputs": [
    {
     "name": "stdout",
     "output_type": "stream",
     "text": [
      "(384, 512, 3)\n",
      "64\n"
     ]
    }
   ],
   "source": [
    "print(img_array.shape)\n",
    "print(img_array[0][0][2])"
   ],
   "metadata": {
    "colab": {
     "base_uri": "https://localhost:8080/"
    },
    "id": "EFzS1zm0bmVG",
    "outputId": "21fd667f-3f77-4694-f2c8-03d1c4ec48c4"
   }
  },
  {
   "cell_type": "code",
   "execution_count": 4,
   "outputs": [],
   "source": [
    "class Pixel:\n",
    "    r = 0\n",
    "    g = 0\n",
    "    b = 0\n",
    "    x = -1\n",
    "    y = -1\n",
    "    centroidX = 0\n",
    "    centroidY = 0\n",
    "    blocked = False\n",
    "    def __init__(self, r, g, b, x, y):\n",
    "        self.r = int(r)\n",
    "        self.g = int(g)\n",
    "        self.b = int(b)\n",
    "        self.x = int(x)\n",
    "        self.y = int(y)\n",
    "        self.centroidX = int(x)\n",
    "        self.centroidY = int(y)\n",
    "        self.blocked = False\n",
    "\n",
    "    def rgbDistance(self, pixel):\n",
    "        a = abs(self.r - pixel.r)\n",
    "        b = abs(self.g - pixel.g)\n",
    "        c = abs(self.b - pixel.b)\n",
    "        return a+b+c\n",
    "\n",
    "    def xyDistance(self, pixel):\n",
    "        return abs(self.x - pixel.x) + abs(self.y - pixel.y)"
   ],
   "metadata": {
    "id": "oZPBs0IrbmVI"
   }
  },
  {
   "cell_type": "code",
   "execution_count": 17,
   "outputs": [],
   "source": [
    "points = []\n",
    "for i in range(384):\n",
    "    for j in range(512):\n",
    "        pixel = Pixel(img_array[i][j][0],img_array[i][j][1],img_array[i][j][2],i,j)\n",
    "        points.append(pixel)"
   ],
   "metadata": {
    "id": "-Z_-1oJFbmVI"
   }
  },
  {
   "cell_type": "code",
   "execution_count": 18,
   "outputs": [],
   "source": [
    "rgb_bandwidth = 40\n",
    "xy_bandwidth = 80"
   ],
   "metadata": {
    "id": "KKi9pBhsbmVI"
   }
  },
  {
   "cell_type": "code",
   "execution_count": 19,
   "outputs": [],
   "source": [
    "n = len(points)\n",
    "for random_point in points:\n",
    "    if not random_point.blocked:\n",
    "        centroid = Pixel(random_point.r, random_point.g, random_point.b, random_point.x, random_point.y)\n",
    "        while True:\n",
    "            cluster = []\n",
    "            for point in points:\n",
    "                if not point.blocked and centroid.rgbDistance(point) < rgb_bandwidth and centroid.xyDistance(point) < xy_bandwidth:\n",
    "                    cluster.append(point)\n",
    "                    point.blocked = True\n",
    "\n",
    "            if len(cluster) == 0:\n",
    "                break\n",
    "            newCenX, newCenY = 0, 0\n",
    "            for i in cluster:\n",
    "                newCenX += i.x\n",
    "                newCenY += i.y\n",
    "            newCenX //= len(cluster)\n",
    "            newCenY //= len(cluster)\n",
    "\n",
    "            centroid.x = newCenX\n",
    "            centroid.y = newCenY\n",
    "\n",
    "            for i in cluster:\n",
    "                i.r = centroid.r\n",
    "                i.g = centroid.g\n",
    "                i.b = centroid.b\n",
    "            if abs(newCenY - centroid.x) <= 2 and abs(newCenX - centroid.y) <= 2:\n",
    "                break\n",
    "            "
   ],
   "metadata": {
    "id": "3jfK2arlbmVJ"
   }
  },
  {
   "cell_type": "code",
   "execution_count": 20,
   "outputs": [],
   "source": [
    "segmented_img_array = np.copy(img_array)\n",
    "for i in points:\n",
    "    segmented_img_array[i.x][i.y][0] = i.r\n",
    "    segmented_img_array[i.x][i.y][1] = i.g\n",
    "    segmented_img_array[i.x][i.y][2] = i.b\n",
    "segmented_img = Image.fromarray(segmented_img_array)\n",
    "segmented_img.save('./cl40d80_2.png')"
   ],
   "metadata": {
    "id": "fO0GQROSbmVK"
   }
  },
  {
   "cell_type": "code",
   "execution_count": 8,
   "outputs": [],
   "source": [],
   "metadata": {
    "id": "k-6m-JvpbmVL"
   }
  }
 ],
 "metadata": {
  "kernelspec": {
   "display_name": "Python 3",
   "language": "python",
   "name": "python3"
  },
  "language_info": {
   "codemirror_mode": {
    "name": "ipython",
    "version": 2
   },
   "file_extension": ".py",
   "mimetype": "text/x-python",
   "name": "python",
   "nbconvert_exporter": "python",
   "pygments_lexer": "ipython2",
   "version": "2.7.6"
  },
  "colab": {
   "provenance": []
  },
  "accelerator": "TPU",
  "gpuClass": "standard"
 },
 "nbformat": 4,
 "nbformat_minor": 0
}
