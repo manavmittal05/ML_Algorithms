{
 "cells": [
  {
   "cell_type": "code",
   "execution_count": 1,
   "metadata": {
    "collapsed": true
   },
   "outputs": [],
   "source": [
    "import numpy as np\n",
    "from PIL import Image\n",
    "import os"
   ]
  },
  {
   "cell_type": "code",
   "execution_count": 2,
   "outputs": [],
   "source": [
    "def standardization(matrix):\n",
    "    # STANDARDIZATION\n",
    "    mean_row_vector = np.mean(matrix, axis=0)\n",
    "    std_row_vector = np.std(matrix, axis=0)\n",
    "    rows = len(matrix)\n",
    "    factor = np.sqrt((1 - 1 / rows))\n",
    "    std_row_vector = std_row_vector / factor\n",
    "\n",
    "    z_matrix = np.array(matrix, dtype=np.float64)\n",
    "    # z_matrix = (matrix - mean_row_vector) / std_row_vector\n",
    "    np.divide((matrix - mean_row_vector), std_row_vector, out=z_matrix, where=std_row_vector!=0)\n",
    "\n",
    "    return z_matrix\n",
    "\n",
    "def perform_pca(matrix, no_of_pc):\n",
    "    z_matrix = standardization(matrix)\n",
    "    # COVARIANCE MATRIX\n",
    "    cov_matrix = np.cov(z_matrix, rowvar=False)\n",
    "    # EIGEN VALUES & VECTORS\n",
    "    eig_val, eig_vec = np.linalg.eig(cov_matrix)\n",
    "    # print(eig_vec)\n",
    "    # print(eig_val)\n",
    "    sort = np.argsort(eig_val)\n",
    "    selected_eig_vec = (np.transpose(eig_vec)[~sort])[:no_of_pc]\n",
    "    # print(selected_eig_vec)\n",
    "    transformed_matrix = np.dot(z_matrix, np.transpose(selected_eig_vec))\n",
    "\n",
    "    return transformed_matrix, np.transpose(selected_eig_vec), eig_val\n",
    "\n",
    "\n",
    "def loadImages(folderName, n):\n",
    "    count = 0\n",
    "    images = []\n",
    "    labels = []\n",
    "    for img in os.listdir(folderName):\n",
    "        count += 1\n",
    "        images.append(list(np.asarray(Image.open(os.path.join(folderName, img))).flatten()))\n",
    "        labels.append(n)\n",
    "    return images, labels"
   ],
   "metadata": {
    "collapsed": false
   }
  },
  {
   "cell_type": "code",
   "execution_count": 3,
   "outputs": [],
   "source": [
    "train_images = []\n",
    "train_labels = []\n",
    "test_images = []\n",
    "test_labels = []\n",
    "for i in range(10):\n",
    "    a, b = list(loadImages(f'./q1_data/trainingSet/trainingSet/{i}', i))\n",
    "    train_images += a[:4*(len(a)//5)]\n",
    "    train_labels += b[:4*(len(a)//5)]\n",
    "    test_images += a[4*(len(a)//5):]\n",
    "    test_labels += b[4*(len(a)//5):]"
   ],
   "metadata": {
    "collapsed": false
   }
  },
  {
   "cell_type": "code",
   "execution_count": 4,
   "outputs": [],
   "source": [
    "train_images = np.array(train_images)\n",
    "test_images = np.array(test_images)"
   ],
   "metadata": {
    "collapsed": false
   }
  },
  {
   "cell_type": "code",
   "execution_count": 5,
   "outputs": [
    {
     "name": "stdout",
     "output_type": "stream",
     "text": [
      "(33584, 784)\n",
      "(8416, 784)\n"
     ]
    }
   ],
   "source": [
    "print(train_images.shape)\n",
    "print(test_images.shape)"
   ],
   "metadata": {
    "collapsed": false
   }
  },
  {
   "cell_type": "code",
   "execution_count": 6,
   "outputs": [],
   "source": [
    "# KNN implementation\n",
    "def KNN(test_transformed_matrix, train_labels, final_matrix, k):\n",
    "    predicted_values = []\n",
    "    for sample in test_transformed_matrix:\n",
    "        distance_matrix = np.sum((final_matrix - sample)**2, axis=1)\n",
    "        selected_indices = np.argsort(distance_matrix)[:k]\n",
    "        # print(selected_indices)\n",
    "        selected_labels = []\n",
    "        for i in selected_indices:\n",
    "            selected_labels.append(train_labels[i])\n",
    "        # selected_labels = train_labels[selected_indices]\n",
    "\n",
    "        frequency_dict = {0:0, 1:0, 2:0, 3:0, 4:0, 5:0, 6:0, 7:0, 8:0, 9:0}\n",
    "        for i in selected_labels:\n",
    "            frequency_dict[i] += 1\n",
    "\n",
    "        key, value = -1, 0\n",
    "        for i in frequency_dict.keys():\n",
    "            if frequency_dict[i] > value:\n",
    "                key = i\n",
    "                value = frequency_dict[i]\n",
    "        predicted_values.append(key)\n",
    "    return predicted_values\n",
    "# for i in range(10):\n",
    "#     print(predicted_values.count(i))"
   ],
   "metadata": {
    "collapsed": false
   }
  },
  {
   "cell_type": "code",
   "execution_count": 8,
   "outputs": [
    {
     "data": {
      "text/plain": "array([[-0.39362769, -0.12275081,  0.32796441,  0.46774096, -0.99605887],\n       [ 0.58312579, -0.14219577,  0.27835719, -0.39296914, -0.19465652],\n       [ 1.06332779, -0.26288397,  0.01184377, -0.39755113, -0.23158193],\n       ...,\n       [-0.07042714, -0.3956071 ,  0.39317869, -0.04463568,  0.110609  ],\n       [ 0.26974275, -0.19932522,  0.1805552 ,  0.56195382,  0.38689803],\n       [-0.31362453, -0.15203393, -0.38105086, -0.5224161 ,  0.26857719]])"
     },
     "execution_count": 8,
     "metadata": {},
     "output_type": "execute_result"
    }
   ],
   "source": [
    "# FOR PC = 5\n",
    "final_matrix, selected_eigen_vec, eigen_vals = perform_pca(train_images, 5)\n",
    "final_matrix"
   ],
   "metadata": {
    "collapsed": false
   }
  },
  {
   "cell_type": "code",
   "execution_count": null,
   "outputs": [],
   "source": [
    "# FOR PC = 25\n",
    "final_matrix, selected_eigen_vec, eigen_vals = perform_pca(train_images, 25)\n",
    "final_matrix"
   ],
   "metadata": {
    "collapsed": false
   }
  },
  {
   "cell_type": "code",
   "execution_count": null,
   "outputs": [],
   "source": [
    "# FOR PC = 125\n",
    "final_matrix, selected_eigen_vec, eigen_vals = perform_pca(train_images, 125)\n",
    "final_matrix"
   ],
   "metadata": {
    "collapsed": false
   }
  },
  {
   "cell_type": "code",
   "execution_count": 55,
   "outputs": [
    {
     "data": {
      "text/plain": "array([[-1.41002641,  0.45950356, -0.75105664,  0.49515239,  0.64848102],\n       [-1.38845404,  0.49728804, -0.07061148,  0.60170227,  0.95842629],\n       [-0.78542043, -0.09483206,  0.13358177,  1.17108413,  0.49496935],\n       ...,\n       [-0.24782463,  0.24342749,  0.13963689, -0.73741786,  0.47687506],\n       [-0.23264722, -0.08502687,  0.38258059, -0.33365764, -0.11003412],\n       [-0.59484517, -0.27143183, -0.71999161,  0.04999003, -0.02339747]])"
     },
     "execution_count": 55,
     "metadata": {},
     "output_type": "execute_result"
    }
   ],
   "source": [
    "# Testing Matrix for PCA\n",
    "test_z_matrix = standardization(test_images)\n",
    "test_transformed_matrix = np.dot(test_z_matrix, selected_eigen_vec)\n",
    "test_transformed_matrix"
   ],
   "metadata": {
    "collapsed": false
   }
  },
  {
   "cell_type": "code",
   "execution_count": 64,
   "outputs": [],
   "source": [
    "# Without PCA\n",
    "final_matrix = test_images\n",
    "test_transformed_matrix = train_images"
   ],
   "metadata": {
    "collapsed": false
   }
  },
  {
   "cell_type": "code",
   "execution_count": 65,
   "outputs": [],
   "source": [
    "predicted_values = KNN(test_transformed_matrix, train_labels, final_matrix, 3)"
   ],
   "metadata": {
    "collapsed": false
   }
  },
  {
   "cell_type": "code",
   "execution_count": 66,
   "outputs": [
    {
     "name": "stdout",
     "output_type": "stream",
     "text": [
      "Prediction Accuracy is : 9.850285171102662 %\n"
     ]
    }
   ],
   "source": [
    "correct_prediction = 0\n",
    "for i in range(len(test_labels)):\n",
    "    if predicted_values[i] == test_labels[i]:\n",
    "        correct_prediction += 1\n",
    "print(f\"Prediction Accuracy is : {100*correct_prediction/len(test_labels)} %\")"
   ],
   "metadata": {
    "collapsed": false
   }
  },
  {
   "cell_type": "code",
   "execution_count": 9,
   "outputs": [
    {
     "name": "stdout",
     "output_type": "stream",
     "text": [
      "X = 186, variance is 80%\n"
     ]
    },
    {
     "data": {
      "text/plain": "<Figure size 640x480 with 1 Axes>",
      "image/png": "[encoded data removed]"
     },
     "metadata": {},
     "output_type": "display_data"
    }
   ],
   "source": [
    "import matplotlib.pyplot as plt\n",
    "x = [i for i in range(test_images.shape[1]+1)]\n",
    "y = [0]\n",
    "eigen_vals.sort()\n",
    "eigen_vals = eigen_vals[::-1]\n",
    "s = sum(eigen_vals)\n",
    "for i in range(test_images.shape[1]):\n",
    "    y.append(sum(eigen_vals[:i])/s)\n",
    "\n",
    "mark = [0,0]\n",
    "for j,i in enumerate(y):\n",
    "    if i-0.8 <= 0.000000000001:\n",
    "        mark[0] = x[j]\n",
    "        mark[1] = y[j]\n",
    "\n",
    "print(f\"X = {mark[0]}, variance is 80%\")\n",
    "plt.plot(x, y)\n",
    "plt.scatter(mark[0], mark[1])\n",
    "plt.show()"
   ],
   "metadata": {
    "collapsed": false
   }
  },
  {
   "cell_type": "code",
   "execution_count": 46,
   "outputs": [
    {
     "name": "stdout",
     "output_type": "stream",
     "text": [
      "[[ 0.9398916  -1.31476269]\n",
      " [ 0.43742331  2.50110671]\n",
      " [ 0.83495341 -0.31558805]\n",
      " [-0.58816273 -0.973998  ]\n",
      " [-1.62410559  0.10324203]]\n",
      "[[-0.7810274   0.29520559]\n",
      " [-0.26768116 -0.56103699]\n",
      " [ 0.4622677   0.55255128]\n",
      " [-0.32349894  0.54108986]]\n",
      "[1.80861251 0.95110738 0.06798253 0.37229758]\n"
     ]
    }
   ],
   "source": [
    "a,b,c = perform_pca([[1,5,3,1],[4,2,6,3],[1,4,3,2],[4,4,1,1],[5,5,2,3]], 2)\n",
    "print(a)\n",
    "print(b)\n",
    "print(c/1.25)"
   ],
   "metadata": {
    "collapsed": false
   }
  },
  {
   "cell_type": "code",
   "execution_count": null,
   "outputs": [],
   "source": [],
   "metadata": {
    "collapsed": false
   }
  }
 ],
 "metadata": {
  "kernelspec": {
   "display_name": "Python 3",
   "language": "python",
   "name": "python3"
  },
  "language_info": {
   "codemirror_mode": {
    "name": "ipython",
    "version": 2
   },
   "file_extension": ".py",
   "mimetype": "text/x-python",
   "name": "python",
   "nbconvert_exporter": "python",
   "pygments_lexer": "ipython2",
   "version": "2.7.6"
  }
 },
 "nbformat": 4,
 "nbformat_minor": 0
}
